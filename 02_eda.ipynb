{
 "cells": [
  {
   "cell_type": "markdown",
   "metadata": {},
   "source": [
    "# 2. 탐색적 데이터 분석(EDA) 심화"
   ]
  },
  {
   "cell_type": "code",
   "execution_count": 4,
   "metadata": {},
   "outputs": [
    {
     "data": {
      "text/html": [
       "<div>\n",
       "<style scoped>\n",
       "    .dataframe tbody tr th:only-of-type {\n",
       "        vertical-align: middle;\n",
       "    }\n",
       "\n",
       "    .dataframe tbody tr th {\n",
       "        vertical-align: top;\n",
       "    }\n",
       "\n",
       "    .dataframe thead th {\n",
       "        text-align: right;\n",
       "    }\n",
       "</style>\n",
       "<table border=\"1\" class=\"dataframe\">\n",
       "  <thead>\n",
       "    <tr style=\"text-align: right;\">\n",
       "      <th></th>\n",
       "      <th>device_id</th>\n",
       "      <th>timestamp</th>\n",
       "      <th>month</th>\n",
       "      <th>gender</th>\n",
       "      <th>region</th>\n",
       "      <th>water_consumption</th>\n",
       "      <th>usage_frequency</th>\n",
       "      <th>weeks_since_last_filter_change</th>\n",
       "      <th>water_temperature</th>\n",
       "      <th>error_codes</th>\n",
       "      <th>firmware_version</th>\n",
       "    </tr>\n",
       "  </thead>\n",
       "  <tbody>\n",
       "    <tr>\n",
       "      <th>0</th>\n",
       "      <td>A00001</td>\n",
       "      <td>2022-04-13 17:00:00</td>\n",
       "      <td>4</td>\n",
       "      <td>여성</td>\n",
       "      <td>부산</td>\n",
       "      <td>1.16</td>\n",
       "      <td>4.90</td>\n",
       "      <td>9</td>\n",
       "      <td>25.41</td>\n",
       "      <td>펌프 오류</td>\n",
       "      <td>v1.0.2</td>\n",
       "    </tr>\n",
       "    <tr>\n",
       "      <th>1</th>\n",
       "      <td>A00002</td>\n",
       "      <td>2022-12-04 04:00:00</td>\n",
       "      <td>12</td>\n",
       "      <td>남성</td>\n",
       "      <td>부산</td>\n",
       "      <td>2.94</td>\n",
       "      <td>3.72</td>\n",
       "      <td>10</td>\n",
       "      <td>25.21</td>\n",
       "      <td>필터 오류</td>\n",
       "      <td>v1.0.2</td>\n",
       "    </tr>\n",
       "    <tr>\n",
       "      <th>2</th>\n",
       "      <td>A00003</td>\n",
       "      <td>2022-08-11 04:00:00</td>\n",
       "      <td>8</td>\n",
       "      <td>남성</td>\n",
       "      <td>부산</td>\n",
       "      <td>0.83</td>\n",
       "      <td>6.28</td>\n",
       "      <td>12</td>\n",
       "      <td>16.00</td>\n",
       "      <td>펌프 오류</td>\n",
       "      <td>v1.0.2</td>\n",
       "    </tr>\n",
       "    <tr>\n",
       "      <th>3</th>\n",
       "      <td>A00004</td>\n",
       "      <td>2022-04-11 09:00:00</td>\n",
       "      <td>4</td>\n",
       "      <td>남성</td>\n",
       "      <td>경기</td>\n",
       "      <td>1.74</td>\n",
       "      <td>3.99</td>\n",
       "      <td>3</td>\n",
       "      <td>29.20</td>\n",
       "      <td>필터 오류</td>\n",
       "      <td>v1.0.2</td>\n",
       "    </tr>\n",
       "    <tr>\n",
       "      <th>4</th>\n",
       "      <td>A00005</td>\n",
       "      <td>2022-10-31 09:00:00</td>\n",
       "      <td>10</td>\n",
       "      <td>여성</td>\n",
       "      <td>대전</td>\n",
       "      <td>1.63</td>\n",
       "      <td>4.21</td>\n",
       "      <td>9</td>\n",
       "      <td>21.50</td>\n",
       "      <td>필터 오류</td>\n",
       "      <td>v2.0.0</td>\n",
       "    </tr>\n",
       "  </tbody>\n",
       "</table>\n",
       "</div>"
      ],
      "text/plain": [
       "  device_id           timestamp  month gender region  water_consumption  \\\n",
       "0    A00001 2022-04-13 17:00:00      4     여성     부산               1.16   \n",
       "1    A00002 2022-12-04 04:00:00     12     남성     부산               2.94   \n",
       "2    A00003 2022-08-11 04:00:00      8     남성     부산               0.83   \n",
       "3    A00004 2022-04-11 09:00:00      4     남성     경기               1.74   \n",
       "4    A00005 2022-10-31 09:00:00     10     여성     대전               1.63   \n",
       "\n",
       "   usage_frequency  weeks_since_last_filter_change  water_temperature  \\\n",
       "0             4.90                               9              25.41   \n",
       "1             3.72                              10              25.21   \n",
       "2             6.28                              12              16.00   \n",
       "3             3.99                               3              29.20   \n",
       "4             4.21                               9              21.50   \n",
       "\n",
       "  error_codes firmware_version  \n",
       "0       펌프 오류           v1.0.2  \n",
       "1       필터 오류           v1.0.2  \n",
       "2       펌프 오류           v1.0.2  \n",
       "3       필터 오류           v1.0.2  \n",
       "4       필터 오류           v2.0.0  "
      ]
     },
     "execution_count": 4,
     "metadata": {},
     "output_type": "execute_result"
    }
   ],
   "source": [
    "# [TASK] 2.1 \"iot_data.xlsx\"를 불러옵니다 (이전 실습 노트북을 참조하세요)\n",
    "import pandas as pd\n",
    "iot_data = pd.read_excel(\"iot_data.xlsx\")\n",
    "iot_data.head()"
   ]
  },
  {
   "cell_type": "markdown",
   "metadata": {},
   "source": [
    "* `device_id`: 장치 고유 식별자\n",
    "* `timestamp`: 데이터가 기록된 시간\n",
    "* `month`: 데이터가 기록된 월\n",
    "* `gender`: 사용자의 성별\n",
    "* `region`: 지역 (서울, 경기, 부산 등의 광역시도)\n",
    "* `water_consumption`: 소비된 물의 양 (리터)\n",
    "* `usage_frequency`: 하루에 정수기를 사용한 횟수\n",
    "* `weeks_since_last_filter_change`: 마지막 필터 교체 이후 경과 주 수\n",
    "* `water_temperature`: 물의 온도\n",
    "* `error_codes`: 장치에서 감지된 오류 코드\n",
    "* `firmware_version`: 현재 장치의 펌웨어 버전"
   ]
  },
  {
   "cell_type": "code",
   "execution_count": 6,
   "metadata": {},
   "outputs": [
    {
     "name": "stdout",
     "output_type": "stream",
     "text": [
      "평균 water_temperature이 가장 낮은 월: 7\n"
     ]
    }
   ],
   "source": [
    "# [TASK] 2.2 평균 water_temperature이 가장 낮은 month는?\n"
   ]
  },
  {
   "cell_type": "code",
   "execution_count": 8,
   "metadata": {},
   "outputs": [
    {
     "name": "stdout",
     "output_type": "stream",
     "text": [
      "평균 water_temperature이 가장 낮은 월: 7\n"
     ]
    }
   ],
   "source": [
    "print(f\"평균 water_temperature이 가장 낮은 월: {lowest_temperature_month}\")\n"
   ]
  },
  {
   "cell_type": "code",
   "execution_count": 7,
   "metadata": {},
   "outputs": [
    {
     "name": "stdout",
     "output_type": "stream",
     "text": [
      "평균 usage_frequency가 가장 높은 월: 7\n"
     ]
    }
   ],
   "source": [
    "# [TASK] 2.3 평균 usage_frequency가 가장 높은 month는?\n",
    "# 월별로 평균 usage_frequency 계산\n",
    "monthly_mean_frequency = iot_data.groupby('month')['usage_frequency'].mean()\n",
    "\n",
    "# 평균 usage_frequency가 가장 높은 월 찾기\n",
    "highest_frequency_month = monthly_mean_frequency.idxmax()\n",
    "\n",
    "print(\"평균 usage_frequency가 가장 높은 월:\", highest_frequency_month)\n"
   ]
  },
  {
   "cell_type": "code",
   "execution_count": 12,
   "metadata": {},
   "outputs": [
    {
     "name": "stdout",
     "output_type": "stream",
     "text": [
      "성별 별 '오류 없음' 행 개수:\n",
      " gender\n",
      "남성    1706\n",
      "여성    1624\n",
      "Name: count, dtype: int64\n"
     ]
    }
   ],
   "source": [
    "# [TASK] 2.4 엑셀 파일의 \"pivot\" 시트 참조\n",
    "# \"error_codes\" 열이 \"오류 없음\"인 행 필터링\n",
    "no_error_rows = iot_data[iot_data['error_codes'] == '오류 없음']\n",
    "\n",
    "# 각 성별 별 행 개수 세기\n",
    "gender_counts = no_error_rows['gender'].value_counts()\n",
    "\n",
    "print(\"성별 별 '오류 없음' 행 개수:\\n\", gender_counts)\n",
    "\n"
   ]
  },
  {
   "cell_type": "code",
   "execution_count": null,
   "metadata": {},
   "outputs": [],
   "source": [
    "# [TASK] 2.5 엑셀 파일의 \"pivot\" 시트 참조\n",
    "summary_table = iot_data.groupby(['firmware_version', 'month'])['water_consumption'].sum().unstack(fill_value=0)\n"
   ]
  },
  {
   "cell_type": "code",
   "execution_count": 30,
   "metadata": {},
   "outputs": [
    {
     "name": "stdout",
     "output_type": "stream",
     "text": [
      "region 별 평균 usage_frequency와 water_temperature:\n",
      "   region  usage_frequency  water_temperature\n",
      "0     경기         3.910571          24.240170\n",
      "1     경남         4.506816          21.567190\n",
      "2     광주         4.337129          22.536500\n",
      "3     대구         5.108074          18.680574\n",
      "4     대전         4.235404          22.850566\n",
      "5     부산         4.760264          20.380607\n",
      "6     서울         3.948939          24.119697\n",
      "7     울산         4.700729          20.587074\n",
      "8     인천         3.998204          23.928972\n",
      "9     제주         3.696210          25.623994\n"
     ]
    }
   ],
   "source": [
    "# [TASK] 2.6 엑셀 파일의 \"pivot\" 시트 참조\n",
    "# region 별로 평균 usage_frequency와 water_temperature 계산\n",
    "region_means = iot_data.groupby('region')[['usage_frequency', 'water_temperature']].mean().reset_index()\n",
    "\n",
    "print(\"region 별 평균 usage_frequency와 water_temperature:\\n\", region_means)\n"
   ]
  },
  {
   "cell_type": "code",
   "execution_count": null,
   "metadata": {},
   "outputs": [],
   "source": [
    "!pip install matplotlib"
   ]
  },
  {
   "cell_type": "code",
   "execution_count": 18,
   "metadata": {},
   "outputs": [
    {
     "data": {
      "image/png": "[encoded data removed]",
      "text/plain": [
       "<Figure size 640x480 with 1 Axes>"
      ]
     },
     "metadata": {},
     "output_type": "display_data"
    }
   ],
   "source": [
    "# [TASK] 2.7 위 2.6에서의 결과를 활용, 정적인(static) 시각화\n",
    "import seaborn as sns\n",
    "import matplotlib.pyplot as plt\n",
    "\n",
    "plt.rcParams[\"font.family\"] = \"gulim\"  # 사용할 한글 폰트 지정\n",
    "sns.scatterplot(data=region_means, x=\"usage_frequency\", y=\"water_temperature\", hue=\"region\")\n",
    "plt.show()"
   ]
  },
  {
   "cell_type": "markdown",
   "metadata": {},
   "source": [
    "참조: https://plotly.com/python/"
   ]
  },
  {
   "cell_type": "code",
   "execution_count": 21,
   "metadata": {},
   "outputs": [
    {
     "data": {
      "text/html": [
       "<div>\n",
       "<style scoped>\n",
       "    .dataframe tbody tr th:only-of-type {\n",
       "        vertical-align: middle;\n",
       "    }\n",
       "\n",
       "    .dataframe tbody tr th {\n",
       "        vertical-align: top;\n",
       "    }\n",
       "\n",
       "    .dataframe thead th {\n",
       "        text-align: right;\n",
       "    }\n",
       "</style>\n",
       "<table border=\"1\" class=\"dataframe\">\n",
       "  <thead>\n",
       "    <tr style=\"text-align: right;\">\n",
       "      <th></th>\n",
       "      <th>sepal_length</th>\n",
       "      <th>sepal_width</th>\n",
       "      <th>petal_length</th>\n",
       "      <th>petal_width</th>\n",
       "      <th>species</th>\n",
       "      <th>species_id</th>\n",
       "    </tr>\n",
       "  </thead>\n",
       "  <tbody>\n",
       "    <tr>\n",
       "      <th>0</th>\n",
       "      <td>5.1</td>\n",
       "      <td>3.5</td>\n",
       "      <td>1.4</td>\n",
       "      <td>0.2</td>\n",
       "      <td>setosa</td>\n",
       "      <td>1</td>\n",
       "    </tr>\n",
       "    <tr>\n",
       "      <th>1</th>\n",
       "      <td>4.9</td>\n",
       "      <td>3.0</td>\n",
       "      <td>1.4</td>\n",
       "      <td>0.2</td>\n",
       "      <td>setosa</td>\n",
       "      <td>1</td>\n",
       "    </tr>\n",
       "    <tr>\n",
       "      <th>2</th>\n",
       "      <td>4.7</td>\n",
       "      <td>3.2</td>\n",
       "      <td>1.3</td>\n",
       "      <td>0.2</td>\n",
       "      <td>setosa</td>\n",
       "      <td>1</td>\n",
       "    </tr>\n",
       "    <tr>\n",
       "      <th>3</th>\n",
       "      <td>4.6</td>\n",
       "      <td>3.1</td>\n",
       "      <td>1.5</td>\n",
       "      <td>0.2</td>\n",
       "      <td>setosa</td>\n",
       "      <td>1</td>\n",
       "    </tr>\n",
       "    <tr>\n",
       "      <th>4</th>\n",
       "      <td>5.0</td>\n",
       "      <td>3.6</td>\n",
       "      <td>1.4</td>\n",
       "      <td>0.2</td>\n",
       "      <td>setosa</td>\n",
       "      <td>1</td>\n",
       "    </tr>\n",
       "  </tbody>\n",
       "</table>\n",
       "</div>"
      ],
      "text/plain": [
       "   sepal_length  sepal_width  petal_length  petal_width species  species_id\n",
       "0           5.1          3.5           1.4          0.2  setosa           1\n",
       "1           4.9          3.0           1.4          0.2  setosa           1\n",
       "2           4.7          3.2           1.3          0.2  setosa           1\n",
       "3           4.6          3.1           1.5          0.2  setosa           1\n",
       "4           5.0          3.6           1.4          0.2  setosa           1"
      ]
     },
     "execution_count": 21,
     "metadata": {},
     "output_type": "execute_result"
    }
   ],
   "source": [
    "import plotly.express as px\n",
    "df = px.data.iris()\n",
    "df.head()"
   ]
  },
  {
   "cell_type": "code",
   "execution_count": 28,
   "metadata": {},
   "outputs": [],
   "source": [
    "region_means2 = region_means.reset_index()"
   ]
  },
  {
   "cell_type": "code",
   "execution_count": 31,
   "metadata": {},
   "outputs": [
    {
     "data": {
      "application/vnd.plotly.v1+json": {
       "config": {
        "plotlyServerURL": "https://plot.ly"
       },
       "data": [
        {
         "hovertemplate": "region=경기<br>usage_frequency=%{x}<br>water_temperature=%{y}<extra></extra>",
         "legendgroup": "경기",
         "marker": {
          "color": "#636efa",
          "symbol": "circle"
         },
         "mode": "markers",
         "name": "경기",
         "orientation": "v",
         "showlegend": true,
         "type": "scatter",
         "x": [
          3.9105705705705702
         ],
         "xaxis": "x",
         "y": [
          24.24017017017017
         ],
         "yaxis": "y"
        },
        {
         "hovertemplate": "region=경남<br>usage_frequency=%{x}<br>water_temperature=%{y}<extra></extra>",
         "legendgroup": "경남",
         "marker": {
          "color": "#EF553B",
          "symbol": "circle"
         },
         "mode": "markers",
         "name": "경남",
         "orientation": "v",
         "showlegend": true,
         "type": "scatter",
         "x": [
          4.50681581685744
         ],
         "xaxis": "x",
         "y": [
          21.567190426638916
         ],
         "yaxis": "y"
        },
        {
         "hovertemplate": "region=광주<br>usage_frequency=%{x}<br>water_temperature=%{y}<extra></extra>",
         "legendgroup": "광주",
         "marker": {
          "color": "#00cc96",
          "symbol": "circle"
         },
         "mode": "markers",
         "name": "광주",
         "orientation": "v",
         "showlegend": true,
         "type": "scatter",
         "x": [
          4.337128614157527
         ],
         "xaxis": "x",
         "y": [
          22.536500498504488
         ],
         "yaxis": "y"
        },
        {
         "hovertemplate": "region=대구<br>usage_frequency=%{x}<br>water_temperature=%{y}<extra></extra>",
         "legendgroup": "대구",
         "marker": {
          "color": "#ab63fa",
          "symbol": "circle"
         },
         "mode": "markers",
         "name": "대구",
         "orientation": "v",
         "showlegend": true,
         "type": "scatter",
         "x": [
          5.1080739299610896
         ],
         "xaxis": "x",
         "y": [
          18.680573929961092
         ],
         "yaxis": "y"
        },
        {
         "hovertemplate": "region=대전<br>usage_frequency=%{x}<br>water_temperature=%{y}<extra></extra>",
         "legendgroup": "대전",
         "marker": {
          "color": "#FFA15A",
          "symbol": "circle"
         },
         "mode": "markers",
         "name": "대전",
         "orientation": "v",
         "showlegend": true,
         "type": "scatter",
         "x": [
          4.235404040404041
         ],
         "xaxis": "x",
         "y": [
          22.850565656565657
         ],
         "yaxis": "y"
        },
        {
         "hovertemplate": "region=부산<br>usage_frequency=%{x}<br>water_temperature=%{y}<extra></extra>",
         "legendgroup": "부산",
         "marker": {
          "color": "#19d3f3",
          "symbol": "circle"
         },
         "mode": "markers",
         "name": "부산",
         "orientation": "v",
         "showlegend": true,
         "type": "scatter",
         "x": [
          4.760264187866928
         ],
         "xaxis": "x",
         "y": [
          20.38060665362035
         ],
         "yaxis": "y"
        },
        {
         "hovertemplate": "region=서울<br>usage_frequency=%{x}<br>water_temperature=%{y}<extra></extra>",
         "legendgroup": "서울",
         "marker": {
          "color": "#FF6692",
          "symbol": "circle"
         },
         "mode": "markers",
         "name": "서울",
         "orientation": "v",
         "showlegend": true,
         "type": "scatter",
         "x": [
          3.9489393939393937
         ],
         "xaxis": "x",
         "y": [
          24.11969696969697
         ],
         "yaxis": "y"
        },
        {
         "hovertemplate": "region=울산<br>usage_frequency=%{x}<br>water_temperature=%{y}<extra></extra>",
         "legendgroup": "울산",
         "marker": {
          "color": "#B6E880",
          "symbol": "circle"
         },
         "mode": "markers",
         "name": "울산",
         "orientation": "v",
         "showlegend": true,
         "type": "scatter",
         "x": [
          4.700729064039408
         ],
         "xaxis": "x",
         "y": [
          20.587073891625618
         ],
         "yaxis": "y"
        },
        {
         "hovertemplate": "region=인천<br>usage_frequency=%{x}<br>water_temperature=%{y}<extra></extra>",
         "legendgroup": "인천",
         "marker": {
          "color": "#FF97FF",
          "symbol": "circle"
         },
         "mode": "markers",
         "name": "인천",
         "orientation": "v",
         "showlegend": true,
         "type": "scatter",
         "x": [
          3.9982035306334374
         ],
         "xaxis": "x",
         "y": [
          23.92897196261682
         ],
         "yaxis": "y"
        },
        {
         "hovertemplate": "region=제주<br>usage_frequency=%{x}<br>water_temperature=%{y}<extra></extra>",
         "legendgroup": "제주",
         "marker": {
          "color": "#FECB52",
          "symbol": "circle"
         },
         "mode": "markers",
         "name": "제주",
         "orientation": "v",
         "showlegend": true,
         "type": "scatter",
         "x": [
          3.6962099125364434
         ],
         "xaxis": "x",
         "y": [
          25.62399416909621
         ],
         "yaxis": "y"
        }
       ],
       "layout": {
        "legend": {
         "title": {
          "text": "region"
         },
         "tracegroupgap": 0
        },
        "margin": {
         "t": 60
        },
        "template": {
         "data": {
          "bar": [
           {
            "error_x": {
             "color": "#2a3f5f"
            },
            "error_y": {
             "color": "#2a3f5f"
            },
            "marker": {
             "line": {
              "color": "#E5ECF6",
              "width": 0.5
             },
             "pattern": {
              "fillmode": "overlay",
              "size": 10,
              "solidity": 0.2
             }
            },
            "type": "bar"
           }
          ],
          "barpolar": [
           {
            "marker": {
             "line": {
              "color": "#E5ECF6",
              "width": 0.5
             },
             "pattern": {
              "fillmode": "overlay",
              "size": 10,
              "solidity": 0.2
             }
            },
            "type": "barpolar"
           }
          ],
          "carpet": [
           {
            "aaxis": {
             "endlinecolor": "#2a3f5f",
             "gridcolor": "white",
             "linecolor": "white",
             "minorgridcolor": "white",
             "startlinecolor": "#2a3f5f"
            },
            "baxis": {
             "endlinecolor": "#2a3f5f",
             "gridcolor": "white",
             "linecolor": "white",
             "minorgridcolor": "white",
             "startlinecolor": "#2a3f5f"
            },
            "type": "carpet"
           }
          ],
          "choropleth": [
           {
            "colorbar": {
             "outlinewidth": 0,
             "ticks": ""
            },
            "type": "choropleth"
           }
          ],
          "contour": [
           {
            "colorbar": {
             "outlinewidth": 0,
             "ticks": ""
            },
            "colorscale": [
             [
              0,
              "#0d0887"
             ],
             [
              0.1111111111111111,
              "#46039f"
             ],
             [
              0.2222222222222222,
              "#7201a8"
             ],
             [
              0.3333333333333333,
              "#9c179e"
             ],
             [
              0.4444444444444444,
              "#bd3786"
             ],
             [
              0.5555555555555556,
              "#d8576b"
             ],
             [
              0.6666666666666666,
              "#ed7953"
             ],
             [
              0.7777777777777778,
              "#fb9f3a"
             ],
             [
              0.8888888888888888,
              "#fdca26"
             ],
             [
              1,
              "#f0f921"
             ]
            ],
            "type": "contour"
           }
          ],
          "contourcarpet": [
           {
            "colorbar": {
             "outlinewidth": 0,
             "ticks": ""
            },
            "type": "contourcarpet"
           }
          ],
          "heatmap": [
           {
            "colorbar": {
             "outlinewidth": 0,
             "ticks": ""
            },
            "colorscale": [
             [
              0,
              "#0d0887"
             ],
             [
              0.1111111111111111,
              "#46039f"
             ],
             [
              0.2222222222222222,
              "#7201a8"
             ],
             [
              0.3333333333333333,
              "#9c179e"
             ],
             [
              0.4444444444444444,
              "#bd3786"
             ],
             [
              0.5555555555555556,
              "#d8576b"
             ],
             [
              0.6666666666666666,
              "#ed7953"
             ],
             [
              0.7777777777777778,
              "#fb9f3a"
             ],
             [
              0.8888888888888888,
              "#fdca26"
             ],
             [
              1,
              "#f0f921"
             ]
            ],
            "type": "heatmap"
           }
          ],
          "heatmapgl": [
           {
            "colorbar": {
             "outlinewidth": 0,
             "ticks": ""
            },
            "colorscale": [
             [
              0,
              "#0d0887"
             ],
             [
              0.1111111111111111,
              "#46039f"
             ],
             [
              0.2222222222222222,
              "#7201a8"
             ],
             [
              0.3333333333333333,
              "#9c179e"
             ],
             [
              0.4444444444444444,
              "#bd3786"
             ],
             [
              0.5555555555555556,
              "#d8576b"
             ],
             [
              0.6666666666666666,
              "#ed7953"
             ],
             [
              0.7777777777777778,
              "#fb9f3a"
             ],
             [
              0.8888888888888888,
              "#fdca26"
             ],
             [
              1,
              "#f0f921"
             ]
            ],
            "type": "heatmapgl"
           }
          ],
          "histogram": [
           {
            "marker": {
             "pattern": {
              "fillmode": "overlay",
              "size": 10,
              "solidity": 0.2
             }
            },
            "type": "histogram"
           }
          ],
          "histogram2d": [
           {
            "colorbar": {
             "outlinewidth": 0,
             "ticks": ""
            },
            "colorscale": [
             [
              0,
              "#0d0887"
             ],
             [
              0.1111111111111111,
              "#46039f"
             ],
             [
              0.2222222222222222,
              "#7201a8"
             ],
             [
              0.3333333333333333,
              "#9c179e"
             ],
             [
              0.4444444444444444,
              "#bd3786"
             ],
             [
              0.5555555555555556,
              "#d8576b"
             ],
             [
              0.6666666666666666,
              "#ed7953"
             ],
             [
              0.7777777777777778,
              "#fb9f3a"
             ],
             [
              0.8888888888888888,
              "#fdca26"
             ],
             [
              1,
              "#f0f921"
             ]
            ],
            "type": "histogram2d"
           }
          ],
          "histogram2dcontour": [
           {
            "colorbar": {
             "outlinewidth": 0,
             "ticks": ""
            },
            "colorscale": [
             [
              0,
              "#0d0887"
             ],
             [
              0.1111111111111111,
              "#46039f"
             ],
             [
              0.2222222222222222,
              "#7201a8"
             ],
             [
              0.3333333333333333,
              "#9c179e"
             ],
             [
              0.4444444444444444,
              "#bd3786"
             ],
             [
              0.5555555555555556,
              "#d8576b"
             ],
             [
              0.6666666666666666,
              "#ed7953"
             ],
             [
              0.7777777777777778,
              "#fb9f3a"
             ],
             [
              0.8888888888888888,
              "#fdca26"
             ],
             [
              1,
              "#f0f921"
             ]
            ],
            "type": "histogram2dcontour"
           }
          ],
          "mesh3d": [
           {
            "colorbar": {
             "outlinewidth": 0,
             "ticks": ""
            },
            "type": "mesh3d"
           }
          ],
          "parcoords": [
           {
            "line": {
             "colorbar": {
              "outlinewidth": 0,
              "ticks": ""
             }
            },
            "type": "parcoords"
           }
          ],
          "pie": [
           {
            "automargin": true,
            "type": "pie"
           }
          ],
          "scatter": [
           {
            "fillpattern": {
             "fillmode": "overlay",
             "size": 10,
             "solidity": 0.2
            },
            "type": "scatter"
           }
          ],
          "scatter3d": [
           {
            "line": {
             "colorbar": {
              "outlinewidth": 0,
              "ticks": ""
             }
            },
            "marker": {
             "colorbar": {
              "outlinewidth": 0,
              "ticks": ""
             }
            },
            "type": "scatter3d"
           }
          ],
          "scattercarpet": [
           {
            "marker": {
             "colorbar": {
              "outlinewidth": 0,
              "ticks": ""
             }
            },
            "type": "scattercarpet"
           }
          ],
          "scattergeo": [
           {
            "marker": {
             "colorbar": {
              "outlinewidth": 0,
              "ticks": ""
             }
            },
            "type": "scattergeo"
           }
          ],
          "scattergl": [
           {
            "marker": {
             "colorbar": {
              "outlinewidth": 0,
              "ticks": ""
             }
            },
            "type": "scattergl"
           }
          ],
          "scattermapbox": [
           {
            "marker": {
             "colorbar": {
              "outlinewidth": 0,
              "ticks": ""
             }
            },
            "type": "scattermapbox"
           }
          ],
          "scatterpolar": [
           {
            "marker": {
             "colorbar": {
              "outlinewidth": 0,
              "ticks": ""
             }
            },
            "type": "scatterpolar"
           }
          ],
          "scatterpolargl": [
           {
            "marker": {
             "colorbar": {
              "outlinewidth": 0,
              "ticks": ""
             }
            },
            "type": "scatterpolargl"
           }
          ],
          "scatterternary": [
           {
            "marker": {
             "colorbar": {
              "outlinewidth": 0,
              "ticks": ""
             }
            },
            "type": "scatterternary"
           }
          ],
          "surface": [
           {
            "colorbar": {
             "outlinewidth": 0,
             "ticks": ""
            },
            "colorscale": [
             [
              0,
              "#0d0887"
             ],
             [
              0.1111111111111111,
              "#46039f"
             ],
             [
              0.2222222222222222,
              "#7201a8"
             ],
             [
              0.3333333333333333,
              "#9c179e"
             ],
             [
              0.4444444444444444,
              "#bd3786"
             ],
             [
              0.5555555555555556,
              "#d8576b"
             ],
             [
              0.6666666666666666,
              "#ed7953"
             ],
             [
              0.7777777777777778,
              "#fb9f3a"
             ],
             [
              0.8888888888888888,
              "#fdca26"
             ],
             [
              1,
              "#f0f921"
             ]
            ],
            "type": "surface"
           }
          ],
          "table": [
           {
            "cells": {
             "fill": {
              "color": "#EBF0F8"
             },
             "line": {
              "color": "white"
             }
            },
            "header": {
             "fill": {
              "color": "#C8D4E3"
             },
             "line": {
              "color": "white"
             }
            },
            "type": "table"
           }
          ]
         },
         "layout": {
          "annotationdefaults": {
           "arrowcolor": "#2a3f5f",
           "arrowhead": 0,
           "arrowwidth": 1
          },
          "autotypenumbers": "strict",
          "coloraxis": {
           "colorbar": {
            "outlinewidth": 0,
            "ticks": ""
           }
          },
          "colorscale": {
           "diverging": [
            [
             0,
             "#8e0152"
            ],
            [
             0.1,
             "#c51b7d"
            ],
            [
             0.2,
             "#de77ae"
            ],
            [
             0.3,
             "#f1b6da"
            ],
            [
             0.4,
             "#fde0ef"
            ],
            [
             0.5,
             "#f7f7f7"
            ],
            [
             0.6,
             "#e6f5d0"
            ],
            [
             0.7,
             "#b8e186"
            ],
            [
             0.8,
             "#7fbc41"
            ],
            [
             0.9,
             "#4d9221"
            ],
            [
             1,
             "#276419"
            ]
           ],
           "sequential": [
            [
             0,
             "#0d0887"
            ],
            [
             0.1111111111111111,
             "#46039f"
            ],
            [
             0.2222222222222222,
             "#7201a8"
            ],
            [
             0.3333333333333333,
             "#9c179e"
            ],
            [
             0.4444444444444444,
             "#bd3786"
            ],
            [
             0.5555555555555556,
             "#d8576b"
            ],
            [
             0.6666666666666666,
             "#ed7953"
            ],
            [
             0.7777777777777778,
             "#fb9f3a"
            ],
            [
             0.8888888888888888,
             "#fdca26"
            ],
            [
             1,
             "#f0f921"
            ]
           ],
           "sequentialminus": [
            [
             0,
             "#0d0887"
            ],
            [
             0.1111111111111111,
             "#46039f"
            ],
            [
             0.2222222222222222,
             "#7201a8"
            ],
            [
             0.3333333333333333,
             "#9c179e"
            ],
            [
             0.4444444444444444,
             "#bd3786"
            ],
            [
             0.5555555555555556,
             "#d8576b"
            ],
            [
             0.6666666666666666,
             "#ed7953"
            ],
            [
             0.7777777777777778,
             "#fb9f3a"
            ],
            [
             0.8888888888888888,
             "#fdca26"
            ],
            [
             1,
             "#f0f921"
            ]
           ]
          },
          "colorway": [
           "#636efa",
           "#EF553B",
           "#00cc96",
           "#ab63fa",
           "#FFA15A",
           "#19d3f3",
           "#FF6692",
           "#B6E880",
           "#FF97FF",
           "#FECB52"
          ],
          "font": {
           "color": "#2a3f5f"
          },
          "geo": {
           "bgcolor": "white",
           "lakecolor": "white",
           "landcolor": "#E5ECF6",
           "showlakes": true,
           "showland": true,
           "subunitcolor": "white"
          },
          "hoverlabel": {
           "align": "left"
          },
          "hovermode": "closest",
          "mapbox": {
           "style": "light"
          },
          "paper_bgcolor": "white",
          "plot_bgcolor": "#E5ECF6",
          "polar": {
           "angularaxis": {
            "gridcolor": "white",
            "linecolor": "white",
            "ticks": ""
           },
           "bgcolor": "#E5ECF6",
           "radialaxis": {
            "gridcolor": "white",
            "linecolor": "white",
            "ticks": ""
           }
          },
          "scene": {
           "xaxis": {
            "backgroundcolor": "#E5ECF6",
            "gridcolor": "white",
            "gridwidth": 2,
            "linecolor": "white",
            "showbackground": true,
            "ticks": "",
            "zerolinecolor": "white"
           },
           "yaxis": {
            "backgroundcolor": "#E5ECF6",
            "gridcolor": "white",
            "gridwidth": 2,
            "linecolor": "white",
            "showbackground": true,
            "ticks": "",
            "zerolinecolor": "white"
           },
           "zaxis": {
            "backgroundcolor": "#E5ECF6",
            "gridcolor": "white",
            "gridwidth": 2,
            "linecolor": "white",
            "showbackground": true,
            "ticks": "",
            "zerolinecolor": "white"
           }
          },
          "shapedefaults": {
           "line": {
            "color": "#2a3f5f"
           }
          },
          "ternary": {
           "aaxis": {
            "gridcolor": "white",
            "linecolor": "white",
            "ticks": ""
           },
           "baxis": {
            "gridcolor": "white",
            "linecolor": "white",
            "ticks": ""
           },
           "bgcolor": "#E5ECF6",
           "caxis": {
            "gridcolor": "white",
            "linecolor": "white",
            "ticks": ""
           }
          },
          "title": {
           "x": 0.05
          },
          "xaxis": {
           "automargin": true,
           "gridcolor": "white",
           "linecolor": "white",
           "ticks": "",
           "title": {
            "standoff": 15
           },
           "zerolinecolor": "white",
           "zerolinewidth": 2
          },
          "yaxis": {
           "automargin": true,
           "gridcolor": "white",
           "linecolor": "white",
           "ticks": "",
           "title": {
            "standoff": 15
           },
           "zerolinecolor": "white",
           "zerolinewidth": 2
          }
         }
        },
        "xaxis": {
         "anchor": "y",
         "domain": [
          0,
          1
         ],
         "title": {
          "text": "usage_frequency"
         }
        },
        "yaxis": {
         "anchor": "x",
         "domain": [
          0,
          1
         ],
         "title": {
          "text": "water_temperature"
         }
        }
       }
      }
     },
     "metadata": {},
     "output_type": "display_data"
    }
   ],
   "source": [
    "# [TASK] 2.8 동적인(dynamic) 시각화\n",
    "# 출처: https://plotly.com/python/line-and-scatter/\n",
    "# 아래 코드를 수정해서 2.7과 동일한 산점도를 완성하세요\n",
    "\n",
    "# 패키지가 없는 분들은 아래와 같이 설치\n",
    "# !pip install plotly\n",
    "# !pip install nbformat\n",
    "\n",
    "# sns.scatterplot(data=region_means, x=\"usage_frequency\", y=\"water_temperature\", hue=\"region\")\n",
    "\n",
    "import plotly.express as px\n",
    "fig = px.scatter(region_means, x=\"usage_frequency\", y=\"water_temperature\", color=\"region\")\n",
    "fig.show()"
   ]
  },
  {
   "cell_type": "code",
   "execution_count": 32,
   "metadata": {},
   "outputs": [
    {
     "data": {
      "application/vnd.plotly.v1+json": {
       "config": {
        "plotlyServerURL": "https://plot.ly"
       },
       "data": [
        {
         "customdata": [
          [
           "경기"
          ]
         ],
         "hovertemplate": "region=%{customdata[0]}<br>month=1<br>usage_frequency=%{x}<br>water_temperature=%{y}<br>water_consumption=%{marker.size}<extra></extra>",
         "legendgroup": "경기",
         "marker": {
          "color": "#636efa",
          "size": [
           1.4923595505617977
          ],
          "sizemode": "area",
          "sizeref": 0.006254365079365079,
          "symbol": "circle"
         },
         "mode": "markers",
         "name": "경기",
         "orientation": "v",
         "showlegend": true,
         "type": "scatter",
         "x": [
          2.627415730337079
         ],
         "xaxis": "x",
         "y": [
          30.197752808988763
         ],
         "yaxis": "y"
        },
        {
         "customdata": [
          [
           "경남"
          ]
         ],
         "hovertemplate": "region=%{customdata[0]}<br>month=1<br>usage_frequency=%{x}<br>water_temperature=%{y}<br>water_consumption=%{marker.size}<extra></extra>",
         "legendgroup": "경남",
         "marker": {
          "color": "#EF553B",
          "size": [
           0.739054054054054
          ],
          "sizemode": "area",
          "sizeref": 0.006254365079365079,
          "symbol": "circle"
         },
         "mode": "markers",
         "name": "경남",
         "orientation": "v",
         "showlegend": true,
         "type": "scatter",
         "x": [
          3.0033783783783785
         ],
         "xaxis": "x",
         "y": [
          26.94121621621622
         ],
         "yaxis": "y"
        },
        {
         "customdata": [
          [
           "광주"
          ]
         ],
         "hovertemplate": "region=%{customdata[0]}<br>month=1<br>usage_frequency=%{x}<br>water_temperature=%{y}<br>water_consumption=%{marker.size}<extra></extra>",
         "legendgroup": "광주",
         "marker": {
          "color": "#00cc96",
          "size": [
           1.2102666666666666
          ],
          "sizemode": "area",
          "sizeref": 0.006254365079365079,
          "symbol": "circle"
         },
         "mode": "markers",
         "name": "광주",
         "orientation": "v",
         "showlegend": true,
         "type": "scatter",
         "x": [
          2.8270666666666666
         ],
         "xaxis": "x",
         "y": [
          29.130266666666667
         ],
         "yaxis": "y"
        },
        {
         "customdata": [
          [
           "대구"
          ]
         ],
         "hovertemplate": "region=%{customdata[0]}<br>month=1<br>usage_frequency=%{x}<br>water_temperature=%{y}<br>water_consumption=%{marker.size}<extra></extra>",
         "legendgroup": "대구",
         "marker": {
          "color": "#ab63fa",
          "size": [
           1.5179746835443038
          ],
          "sizemode": "area",
          "sizeref": 0.006254365079365079,
          "symbol": "circle"
         },
         "mode": "markers",
         "name": "대구",
         "orientation": "v",
         "showlegend": true,
         "type": "scatter",
         "x": [
          3.4350632911392407
         ],
         "xaxis": "x",
         "y": [
          23.252151898734176
         ],
         "yaxis": "y"
        },
        {
         "customdata": [
          [
           "대전"
          ]
         ],
         "hovertemplate": "region=%{customdata[0]}<br>month=1<br>usage_frequency=%{x}<br>water_temperature=%{y}<br>water_consumption=%{marker.size}<extra></extra>",
         "legendgroup": "대전",
         "marker": {
          "color": "#FFA15A",
          "size": [
           1.2175862068965517
          ],
          "sizemode": "area",
          "sizeref": 0.006254365079365079,
          "symbol": "circle"
         },
         "mode": "markers",
         "name": "대전",
         "orientation": "v",
         "showlegend": true,
         "type": "scatter",
         "x": [
          2.8360919540229887
         ],
         "xaxis": "x",
         "y": [
          28.051724137931036
         ],
         "yaxis": "y"
        },
        {
         "customdata": [
          [
           "부산"
          ]
         ],
         "hovertemplate": "region=%{customdata[0]}<br>month=1<br>usage_frequency=%{x}<br>water_temperature=%{y}<br>water_consumption=%{marker.size}<extra></extra>",
         "legendgroup": "부산",
         "marker": {
          "color": "#19d3f3",
          "size": [
           1.8493150684931507
          ],
          "sizemode": "area",
          "sizeref": 0.006254365079365079,
          "symbol": "circle"
         },
         "mode": "markers",
         "name": "부산",
         "orientation": "v",
         "showlegend": true,
         "type": "scatter",
         "x": [
          3.1713698630136986
         ],
         "xaxis": "x",
         "y": [
          25.76178082191781
         ],
         "yaxis": "y"
        },
        {
         "customdata": [
          [
           "서울"
          ]
         ],
         "hovertemplate": "region=%{customdata[0]}<br>month=1<br>usage_frequency=%{x}<br>water_temperature=%{y}<br>water_consumption=%{marker.size}<extra></extra>",
         "legendgroup": "서울",
         "marker": {
          "color": "#FF6692",
          "size": [
           2.2820238095238095
          ],
          "sizemode": "area",
          "sizeref": 0.006254365079365079,
          "symbol": "circle"
         },
         "mode": "markers",
         "name": "서울",
         "orientation": "v",
         "showlegend": true,
         "type": "scatter",
         "x": [
          2.6347619047619046
         ],
         "xaxis": "x",
         "y": [
          30.519761904761904
         ],
         "yaxis": "y"
        },
        {
         "customdata": [
          [
           "울산"
          ]
         ],
         "hovertemplate": "region=%{customdata[0]}<br>month=1<br>usage_frequency=%{x}<br>water_temperature=%{y}<br>water_consumption=%{marker.size}<extra></extra>",
         "legendgroup": "울산",
         "marker": {
          "color": "#B6E880",
          "size": [
           1.2395505617977527
          ],
          "sizemode": "area",
          "sizeref": 0.006254365079365079,
          "symbol": "circle"
         },
         "mode": "markers",
         "name": "울산",
         "orientation": "v",
         "showlegend": true,
         "type": "scatter",
         "x": [
          3.0762921348314607
         ],
         "xaxis": "x",
         "y": [
          25.86134831460674
         ],
         "yaxis": "y"
        },
        {
         "customdata": [
          [
           "인천"
          ]
         ],
         "hovertemplate": "region=%{customdata[0]}<br>month=1<br>usage_frequency=%{x}<br>water_temperature=%{y}<br>water_consumption=%{marker.size}<extra></extra>",
         "legendgroup": "인천",
         "marker": {
          "color": "#FF97FF",
          "size": [
           1.5643589743589743
          ],
          "sizemode": "area",
          "sizeref": 0.006254365079365079,
          "symbol": "circle"
         },
         "mode": "markers",
         "name": "인천",
         "orientation": "v",
         "showlegend": true,
         "type": "scatter",
         "x": [
          2.6321794871794872
         ],
         "xaxis": "x",
         "y": [
          30.68576923076923
         ],
         "yaxis": "y"
        },
        {
         "customdata": [
          [
           "제주"
          ]
         ],
         "hovertemplate": "region=%{customdata[0]}<br>month=1<br>usage_frequency=%{x}<br>water_temperature=%{y}<br>water_consumption=%{marker.size}<extra></extra>",
         "legendgroup": "제주",
         "marker": {
          "color": "#FECB52",
          "size": [
           0.7725274725274724
          ],
          "sizemode": "area",
          "sizeref": 0.006254365079365079,
          "symbol": "circle"
         },
         "mode": "markers",
         "name": "제주",
         "orientation": "v",
         "showlegend": true,
         "type": "scatter",
         "x": [
          2.498901098901099
         ],
         "xaxis": "x",
         "y": [
          31.677362637362634
         ],
         "yaxis": "y"
        }
       ],
       "frames": [
        {
         "data": [
          {
           "customdata": [
            [
             "경기"
            ]
           ],
           "hovertemplate": "region=%{customdata[0]}<br>month=1<br>usage_frequency=%{x}<br>water_temperature=%{y}<br>water_consumption=%{marker.size}<extra></extra>",
           "legendgroup": "경기",
           "marker": {
            "color": "#636efa",
            "size": [
             1.4923595505617977
            ],
            "sizemode": "area",
            "sizeref": 0.006254365079365079,
            "symbol": "circle"
           },
           "mode": "markers",
           "name": "경기",
           "orientation": "v",
           "showlegend": true,
           "type": "scatter",
           "x": [
            2.627415730337079
           ],
           "xaxis": "x",
           "y": [
            30.197752808988763
           ],
           "yaxis": "y"
          },
          {
           "customdata": [
            [
             "경남"
            ]
           ],
           "hovertemplate": "region=%{customdata[0]}<br>month=1<br>usage_frequency=%{x}<br>water_temperature=%{y}<br>water_consumption=%{marker.size}<extra></extra>",
           "legendgroup": "경남",
           "marker": {
            "color": "#EF553B",
            "size": [
             0.739054054054054
            ],
            "sizemode": "area",
            "sizeref": 0.006254365079365079,
            "symbol": "circle"
           },
           "mode": "markers",
           "name": "경남",
           "orientation": "v",
           "showlegend": true,
           "type": "scatter",
           "x": [
            3.0033783783783785
           ],
           "xaxis": "x",
           "y": [
            26.94121621621622
           ],
           "yaxis": "y"
          },
          {
           "customdata": [
            [
             "광주"
            ]
           ],
           "hovertemplate": "region=%{customdata[0]}<br>month=1<br>usage_frequency=%{x}<br>water_temperature=%{y}<br>water_consumption=%{marker.size}<extra></extra>",
           "legendgroup": "광주",
           "marker": {
            "color": "#00cc96",
            "size": [
             1.2102666666666666
            ],
            "sizemode": "area",
            "sizeref": 0.006254365079365079,
            "symbol": "circle"
           },
           "mode": "markers",
           "name": "광주",
           "orientation": "v",
           "showlegend": true,
           "type": "scatter",
           "x": [
            2.8270666666666666
           ],
           "xaxis": "x",
           "y": [
            29.130266666666667
           ],
           "yaxis": "y"
          },
          {
           "customdata": [
            [
             "대구"
            ]
           ],
           "hovertemplate": "region=%{customdata[0]}<br>month=1<br>usage_frequency=%{x}<br>water_temperature=%{y}<br>water_consumption=%{marker.size}<extra></extra>",
           "legendgroup": "대구",
           "marker": {
            "color": "#ab63fa",
            "size": [
             1.5179746835443038
            ],
            "sizemode": "area",
            "sizeref": 0.006254365079365079,
            "symbol": "circle"
           },
           "mode": "markers",
           "name": "대구",
           "orientation": "v",
           "showlegend": true,
           "type": "scatter",
           "x": [
            3.4350632911392407
           ],
           "xaxis": "x",
           "y": [
            23.252151898734176
           ],
           "yaxis": "y"
          },
          {
           "customdata": [
            [
             "대전"
            ]
           ],
           "hovertemplate": "region=%{customdata[0]}<br>month=1<br>usage_frequency=%{x}<br>water_temperature=%{y}<br>water_consumption=%{marker.size}<extra></extra>",
           "legendgroup": "대전",
           "marker": {
            "color": "#FFA15A",
            "size": [
             1.2175862068965517
            ],
            "sizemode": "area",
            "sizeref": 0.006254365079365079,
            "symbol": "circle"
           },
           "mode": "markers",
           "name": "대전",
           "orientation": "v",
           "showlegend": true,
           "type": "scatter",
           "x": [
            2.8360919540229887
           ],
           "xaxis": "x",
           "y": [
            28.051724137931036
           ],
           "yaxis": "y"
          },
          {
           "customdata": [
            [
             "부산"
            ]
           ],
           "hovertemplate": "region=%{customdata[0]}<br>month=1<br>usage_frequency=%{x}<br>water_temperature=%{y}<br>water_consumption=%{marker.size}<extra></extra>",
           "legendgroup": "부산",
           "marker": {
            "color": "#19d3f3",
            "size": [
             1.8493150684931507
            ],
            "sizemode": "area",
            "sizeref": 0.006254365079365079,
            "symbol": "circle"
           },
           "mode": "markers",
           "name": "부산",
           "orientation": "v",
           "showlegend": true,
           "type": "scatter",
           "x": [
            3.1713698630136986
           ],
           "xaxis": "x",
           "y": [
            25.76178082191781
           ],
           "yaxis": "y"
          },
          {
           "customdata": [
            [
             "서울"
            ]
           ],
           "hovertemplate": "region=%{customdata[0]}<br>month=1<br>usage_frequency=%{x}<br>water_temperature=%{y}<br>water_consumption=%{marker.size}<extra></extra>",
           "legendgroup": "서울",
           "marker": {
            "color": "#FF6692",
            "size": [
             2.2820238095238095
            ],
            "sizemode": "area",
            "sizeref": 0.006254365079365079,
            "symbol": "circle"
           },
           "mode": "markers",
           "name": "서울",
           "orientation": "v",
           "showlegend": true,
           "type": "scatter",
           "x": [
            2.6347619047619046
           ],
           "xaxis": "x",
           "y": [
            30.519761904761904
           ],
           "yaxis": "y"
          },
          {
           "customdata": [
            [
             "울산"
            ]
           ],
           "hovertemplate": "region=%{customdata[0]}<br>month=1<br>usage_frequency=%{x}<br>water_temperature=%{y}<br>water_consumption=%{marker.size}<extra></extra>",
           "legendgroup": "울산",
           "marker": {
            "color": "#B6E880",
            "size": [
             1.2395505617977527
            ],
            "sizemode": "area",
            "sizeref": 0.006254365079365079,
            "symbol": "circle"
           },
           "mode": "markers",
           "name": "울산",
           "orientation": "v",
           "showlegend": true,
           "type": "scatter",
           "x": [
            3.0762921348314607
           ],
           "xaxis": "x",
           "y": [
            25.86134831460674
           ],
           "yaxis": "y"
          },
          {
           "customdata": [
            [
             "인천"
            ]
           ],
           "hovertemplate": "region=%{customdata[0]}<br>month=1<br>usage_frequency=%{x}<br>water_temperature=%{y}<br>water_consumption=%{marker.size}<extra></extra>",
           "legendgroup": "인천",
           "marker": {
            "color": "#FF97FF",
            "size": [
             1.5643589743589743
            ],
            "sizemode": "area",
            "sizeref": 0.006254365079365079,
            "symbol": "circle"
           },
           "mode": "markers",
           "name": "인천",
           "orientation": "v",
           "showlegend": true,
           "type": "scatter",
           "x": [
            2.6321794871794872
           ],
           "xaxis": "x",
           "y": [
            30.68576923076923
           ],
           "yaxis": "y"
          },
          {
           "customdata": [
            [
             "제주"
            ]
           ],
           "hovertemplate": "region=%{customdata[0]}<br>month=1<br>usage_frequency=%{x}<br>water_temperature=%{y}<br>water_consumption=%{marker.size}<extra></extra>",
           "legendgroup": "제주",
           "marker": {
            "color": "#FECB52",
            "size": [
             0.7725274725274724
            ],
            "sizemode": "area",
            "sizeref": 0.006254365079365079,
            "symbol": "circle"
           },
           "mode": "markers",
           "name": "제주",
           "orientation": "v",
           "showlegend": true,
           "type": "scatter",
           "x": [
            2.498901098901099
           ],
           "xaxis": "x",
           "y": [
            31.677362637362634
           ],
           "yaxis": "y"
          }
         ],
         "name": "1"
        },
        {
         "data": [
          {
           "customdata": [
            [
             "경기"
            ]
           ],
           "hovertemplate": "region=%{customdata[0]}<br>month=2<br>usage_frequency=%{x}<br>water_temperature=%{y}<br>water_consumption=%{marker.size}<extra></extra>",
           "legendgroup": "경기",
           "marker": {
            "color": "#636efa",
            "size": [
             1.4988
            ],
            "sizemode": "area",
            "sizeref": 0.006254365079365079,
            "symbol": "circle"
           },
           "mode": "markers",
           "name": "경기",
           "orientation": "v",
           "showlegend": true,
           "type": "scatter",
           "x": [
            2.988
           ],
           "xaxis": "x",
           "y": [
            29.8028
           ],
           "yaxis": "y"
          },
          {
           "customdata": [
            [
             "경남"
            ]
           ],
           "hovertemplate": "region=%{customdata[0]}<br>month=2<br>usage_frequency=%{x}<br>water_temperature=%{y}<br>water_consumption=%{marker.size}<extra></extra>",
           "legendgroup": "경남",
           "marker": {
            "color": "#EF553B",
            "size": [
             0.770253164556962
            ],
            "sizemode": "area",
            "sizeref": 0.006254365079365079,
            "symbol": "circle"
           },
           "mode": "markers",
           "name": "경남",
           "orientation": "v",
           "showlegend": true,
           "type": "scatter",
           "x": [
            3.438101265822785
           ],
           "xaxis": "x",
           "y": [
            25.531012658227848
           ],
           "yaxis": "y"
          },
          {
           "customdata": [
            [
             "광주"
            ]
           ],
           "hovertemplate": "region=%{customdata[0]}<br>month=2<br>usage_frequency=%{x}<br>water_temperature=%{y}<br>water_consumption=%{marker.size}<extra></extra>",
           "legendgroup": "광주",
           "marker": {
            "color": "#00cc96",
            "size": [
             1.2914457831325301
            ],
            "sizemode": "area",
            "sizeref": 0.006254365079365079,
            "symbol": "circle"
           },
           "mode": "markers",
           "name": "광주",
           "orientation": "v",
           "showlegend": true,
           "type": "scatter",
           "x": [
            3.302048192771084
           ],
           "xaxis": "x",
           "y": [
            27.646144578313255
           ],
           "yaxis": "y"
          },
          {
           "customdata": [
            [
             "대구"
            ]
           ],
           "hovertemplate": "region=%{customdata[0]}<br>month=2<br>usage_frequency=%{x}<br>water_temperature=%{y}<br>water_consumption=%{marker.size}<extra></extra>",
           "legendgroup": "대구",
           "marker": {
            "color": "#ab63fa",
            "size": [
             1.7103947368421053
            ],
            "sizemode": "area",
            "sizeref": 0.006254365079365079,
            "symbol": "circle"
           },
           "mode": "markers",
           "name": "대구",
           "orientation": "v",
           "showlegend": true,
           "type": "scatter",
           "x": [
            3.8743421052631577
           ],
           "xaxis": "x",
           "y": [
            22.812105263157896
           ],
           "yaxis": "y"
          },
          {
           "customdata": [
            [
             "대전"
            ]
           ],
           "hovertemplate": "region=%{customdata[0]}<br>month=2<br>usage_frequency=%{x}<br>water_temperature=%{y}<br>water_consumption=%{marker.size}<extra></extra>",
           "legendgroup": "대전",
           "marker": {
            "color": "#FFA15A",
            "size": [
             1.1769662921348314
            ],
            "sizemode": "area",
            "sizeref": 0.006254365079365079,
            "symbol": "circle"
           },
           "mode": "markers",
           "name": "대전",
           "orientation": "v",
           "showlegend": true,
           "type": "scatter",
           "x": [
            3.245056179775281
           ],
           "xaxis": "x",
           "y": [
            27.00438202247191
           ],
           "yaxis": "y"
          },
          {
           "customdata": [
            [
             "부산"
            ]
           ],
           "hovertemplate": "region=%{customdata[0]}<br>month=2<br>usage_frequency=%{x}<br>water_temperature=%{y}<br>water_consumption=%{marker.size}<extra></extra>",
           "legendgroup": "부산",
           "marker": {
            "color": "#19d3f3",
            "size": [
             1.6324719101123595
            ],
            "sizemode": "area",
            "sizeref": 0.006254365079365079,
            "symbol": "circle"
           },
           "mode": "markers",
           "name": "부산",
           "orientation": "v",
           "showlegend": true,
           "type": "scatter",
           "x": [
            3.669325842696629
           ],
           "xaxis": "x",
           "y": [
            24.870898876404496
           ],
           "yaxis": "y"
          },
          {
           "customdata": [
            [
             "서울"
            ]
           ],
           "hovertemplate": "region=%{customdata[0]}<br>month=2<br>usage_frequency=%{x}<br>water_temperature=%{y}<br>water_consumption=%{marker.size}<extra></extra>",
           "legendgroup": "서울",
           "marker": {
            "color": "#FF6692",
            "size": [
             2.501746031746032
            ],
            "sizemode": "area",
            "sizeref": 0.006254365079365079,
            "symbol": "circle"
           },
           "mode": "markers",
           "name": "서울",
           "orientation": "v",
           "showlegend": true,
           "type": "scatter",
           "x": [
            3.13984126984127
           ],
           "xaxis": "x",
           "y": [
            29.205079365079367
           ],
           "yaxis": "y"
          },
          {
           "customdata": [
            [
             "울산"
            ]
           ],
           "hovertemplate": "region=%{customdata[0]}<br>month=2<br>usage_frequency=%{x}<br>water_temperature=%{y}<br>water_consumption=%{marker.size}<extra></extra>",
           "legendgroup": "울산",
           "marker": {
            "color": "#B6E880",
            "size": [
             1.1646575342465753
            ],
            "sizemode": "area",
            "sizeref": 0.006254365079365079,
            "symbol": "circle"
           },
           "mode": "markers",
           "name": "울산",
           "orientation": "v",
           "showlegend": true,
           "type": "scatter",
           "x": [
            3.767945205479452
           ],
           "xaxis": "x",
           "y": [
            24.43246575342466
           ],
           "yaxis": "y"
          },
          {
           "customdata": [
            [
             "인천"
            ]
           ],
           "hovertemplate": "region=%{customdata[0]}<br>month=2<br>usage_frequency=%{x}<br>water_temperature=%{y}<br>water_consumption=%{marker.size}<extra></extra>",
           "legendgroup": "인천",
           "marker": {
            "color": "#FF97FF",
            "size": [
             1.531636363636364
            ],
            "sizemode": "area",
            "sizeref": 0.006254365079365079,
            "symbol": "circle"
           },
           "mode": "markers",
           "name": "인천",
           "orientation": "v",
           "showlegend": true,
           "type": "scatter",
           "x": [
            3.0916363636363635
           ],
           "xaxis": "x",
           "y": [
            28.851454545454544
           ],
           "yaxis": "y"
          },
          {
           "customdata": [
            [
             "제주"
            ]
           ],
           "hovertemplate": "region=%{customdata[0]}<br>month=2<br>usage_frequency=%{x}<br>water_temperature=%{y}<br>water_consumption=%{marker.size}<extra></extra>",
           "legendgroup": "제주",
           "marker": {
            "color": "#FECB52",
            "size": [
             0.7475903614457831
            ],
            "sizemode": "area",
            "sizeref": 0.006254365079365079,
            "symbol": "circle"
           },
           "mode": "markers",
           "name": "제주",
           "orientation": "v",
           "showlegend": true,
           "type": "scatter",
           "x": [
            2.9189156626506025
           ],
           "xaxis": "x",
           "y": [
            30.501807228915663
           ],
           "yaxis": "y"
          }
         ],
         "name": "2"
        },
        {
         "data": [
          {
           "customdata": [
            [
             "경기"
            ]
           ],
           "hovertemplate": "region=%{customdata[0]}<br>month=3<br>usage_frequency=%{x}<br>water_temperature=%{y}<br>water_consumption=%{marker.size}<extra></extra>",
           "legendgroup": "경기",
           "marker": {
            "color": "#636efa",
            "size": [
             1.6179411764705882
            ],
            "sizemode": "area",
            "sizeref": 0.006254365079365079,
            "symbol": "circle"
           },
           "mode": "markers",
           "name": "경기",
           "orientation": "v",
           "showlegend": true,
           "type": "scatter",
           "x": [
            3.4578431372549017
           ],
           "xaxis": "x",
           "y": [
            26.836372549019607
           ],
           "yaxis": "y"
          },
          {
           "customdata": [
            [
             "경남"
            ]
           ],
           "hovertemplate": "region=%{customdata[0]}<br>month=3<br>usage_frequency=%{x}<br>water_temperature=%{y}<br>water_consumption=%{marker.size}<extra></extra>",
           "legendgroup": "경남",
           "marker": {
            "color": "#EF553B",
            "size": [
             0.7979268292682926
            ],
            "sizemode": "area",
            "sizeref": 0.006254365079365079,
            "symbol": "circle"
           },
           "mode": "markers",
           "name": "경남",
           "orientation": "v",
           "showlegend": true,
           "type": "scatter",
           "x": [
            4.025853658536586
           ],
           "xaxis": "x",
           "y": [
            23.69719512195122
           ],
           "yaxis": "y"
          },
          {
           "customdata": [
            [
             "광주"
            ]
           ],
           "hovertemplate": "region=%{customdata[0]}<br>month=3<br>usage_frequency=%{x}<br>water_temperature=%{y}<br>water_consumption=%{marker.size}<extra></extra>",
           "legendgroup": "광주",
           "marker": {
            "color": "#00cc96",
            "size": [
             1.2757831325301205
            ],
            "sizemode": "area",
            "sizeref": 0.006254365079365079,
            "symbol": "circle"
           },
           "mode": "markers",
           "name": "광주",
           "orientation": "v",
           "showlegend": true,
           "type": "scatter",
           "x": [
            3.8703614457831326
           ],
           "xaxis": "x",
           "y": [
            25.054578313253014
           ],
           "yaxis": "y"
          },
          {
           "customdata": [
            [
             "대구"
            ]
           ],
           "hovertemplate": "region=%{customdata[0]}<br>month=3<br>usage_frequency=%{x}<br>water_temperature=%{y}<br>water_consumption=%{marker.size}<extra></extra>",
           "legendgroup": "대구",
           "marker": {
            "color": "#ab63fa",
            "size": [
             1.550470588235294
            ],
            "sizemode": "area",
            "sizeref": 0.006254365079365079,
            "symbol": "circle"
           },
           "mode": "markers",
           "name": "대구",
           "orientation": "v",
           "showlegend": true,
           "type": "scatter",
           "x": [
            4.458117647058823
           ],
           "xaxis": "x",
           "y": [
            21.01364705882353
           ],
           "yaxis": "y"
          },
          {
           "customdata": [
            [
             "대전"
            ]
           ],
           "hovertemplate": "region=%{customdata[0]}<br>month=3<br>usage_frequency=%{x}<br>water_temperature=%{y}<br>water_consumption=%{marker.size}<extra></extra>",
           "legendgroup": "대전",
           "marker": {
            "color": "#FFA15A",
            "size": [
             1.2025274725274726
            ],
            "sizemode": "area",
            "sizeref": 0.006254365079365079,
            "symbol": "circle"
           },
           "mode": "markers",
           "name": "대전",
           "orientation": "v",
           "showlegend": true,
           "type": "scatter",
           "x": [
            3.827032967032967
           ],
           "xaxis": "x",
           "y": [
            25.245274725274726
           ],
           "yaxis": "y"
          },
          {
           "customdata": [
            [
             "부산"
            ]
           ],
           "hovertemplate": "region=%{customdata[0]}<br>month=3<br>usage_frequency=%{x}<br>water_temperature=%{y}<br>water_consumption=%{marker.size}<extra></extra>",
           "legendgroup": "부산",
           "marker": {
            "color": "#19d3f3",
            "size": [
             1.7402439024390242
            ],
            "sizemode": "area",
            "sizeref": 0.006254365079365079,
            "symbol": "circle"
           },
           "mode": "markers",
           "name": "부산",
           "orientation": "v",
           "showlegend": true,
           "type": "scatter",
           "x": [
            4.332073170731707
           ],
           "xaxis": "x",
           "y": [
            22.732439024390242
           ],
           "yaxis": "y"
          },
          {
           "customdata": [
            [
             "서울"
            ]
           ],
           "hovertemplate": "region=%{customdata[0]}<br>month=3<br>usage_frequency=%{x}<br>water_temperature=%{y}<br>water_consumption=%{marker.size}<extra></extra>",
           "legendgroup": "서울",
           "marker": {
            "color": "#FF6692",
            "size": [
             2.3346875
            ],
            "sizemode": "area",
            "sizeref": 0.006254365079365079,
            "symbol": "circle"
           },
           "mode": "markers",
           "name": "서울",
           "orientation": "v",
           "showlegend": true,
           "type": "scatter",
           "x": [
            3.4128125
           ],
           "xaxis": "x",
           "y": [
            26.659479166666667
           ],
           "yaxis": "y"
          },
          {
           "customdata": [
            [
             "울산"
            ]
           ],
           "hovertemplate": "region=%{customdata[0]}<br>month=3<br>usage_frequency=%{x}<br>water_temperature=%{y}<br>water_consumption=%{marker.size}<extra></extra>",
           "legendgroup": "울산",
           "marker": {
            "color": "#B6E880",
            "size": [
             1.1986046511627906
            ],
            "sizemode": "area",
            "sizeref": 0.006254365079365079,
            "symbol": "circle"
           },
           "mode": "markers",
           "name": "울산",
           "orientation": "v",
           "showlegend": true,
           "type": "scatter",
           "x": [
            4.175
           ],
           "xaxis": "x",
           "y": [
            22.48453488372093
           ],
           "yaxis": "y"
          },
          {
           "customdata": [
            [
             "인천"
            ]
           ],
           "hovertemplate": "region=%{customdata[0]}<br>month=3<br>usage_frequency=%{x}<br>water_temperature=%{y}<br>water_consumption=%{marker.size}<extra></extra>",
           "legendgroup": "인천",
           "marker": {
            "color": "#FF97FF",
            "size": [
             1.612625
            ],
            "sizemode": "area",
            "sizeref": 0.006254365079365079,
            "symbol": "circle"
           },
           "mode": "markers",
           "name": "인천",
           "orientation": "v",
           "showlegend": true,
           "type": "scatter",
           "x": [
            3.526
           ],
           "xaxis": "x",
           "y": [
            27.595999999999997
           ],
           "yaxis": "y"
          },
          {
           "customdata": [
            [
             "제주"
            ]
           ],
           "hovertemplate": "region=%{customdata[0]}<br>month=3<br>usage_frequency=%{x}<br>water_temperature=%{y}<br>water_consumption=%{marker.size}<extra></extra>",
           "legendgroup": "제주",
           "marker": {
            "color": "#FECB52",
            "size": [
             0.7460465116279069
            ],
            "sizemode": "area",
            "sizeref": 0.006254365079365079,
            "symbol": "circle"
           },
           "mode": "markers",
           "name": "제주",
           "orientation": "v",
           "showlegend": true,
           "type": "scatter",
           "x": [
            3.432325581395349
           ],
           "xaxis": "x",
           "y": [
            28.185232558139532
           ],
           "yaxis": "y"
          }
         ],
         "name": "3"
        },
        {
         "data": [
          {
           "customdata": [
            [
             "경기"
            ]
           ],
           "hovertemplate": "region=%{customdata[0]}<br>month=4<br>usage_frequency=%{x}<br>water_temperature=%{y}<br>water_consumption=%{marker.size}<extra></extra>",
           "legendgroup": "경기",
           "marker": {
            "color": "#636efa",
            "size": [
             1.35375
            ],
            "sizemode": "area",
            "sizeref": 0.006254365079365079,
            "symbol": "circle"
           },
           "mode": "markers",
           "name": "경기",
           "orientation": "v",
           "showlegend": true,
           "type": "scatter",
           "x": [
            4.003571428571428
           ],
           "xaxis": "x",
           "y": [
            25.663035714285716
           ],
           "yaxis": "y"
          },
          {
           "customdata": [
            [
             "경남"
            ]
           ],
           "hovertemplate": "region=%{customdata[0]}<br>month=4<br>usage_frequency=%{x}<br>water_temperature=%{y}<br>water_consumption=%{marker.size}<extra></extra>",
           "legendgroup": "경남",
           "marker": {
            "color": "#EF553B",
            "size": [
             0.8110389610389611
            ],
            "sizemode": "area",
            "sizeref": 0.006254365079365079,
            "symbol": "circle"
           },
           "mode": "markers",
           "name": "경남",
           "orientation": "v",
           "showlegend": true,
           "type": "scatter",
           "x": [
            4.481688311688312
           ],
           "xaxis": "x",
           "y": [
            22.7974025974026
           ],
           "yaxis": "y"
          },
          {
           "customdata": [
            [
             "광주"
            ]
           ],
           "hovertemplate": "region=%{customdata[0]}<br>month=4<br>usage_frequency=%{x}<br>water_temperature=%{y}<br>water_consumption=%{marker.size}<extra></extra>",
           "legendgroup": "광주",
           "marker": {
            "color": "#00cc96",
            "size": [
             1.1901176470588235
            ],
            "sizemode": "area",
            "sizeref": 0.006254365079365079,
            "symbol": "circle"
           },
           "mode": "markers",
           "name": "광주",
           "orientation": "v",
           "showlegend": true,
           "type": "scatter",
           "x": [
            4.21
           ],
           "xaxis": "x",
           "y": [
            23.692705882352943
           ],
           "yaxis": "y"
          },
          {
           "customdata": [
            [
             "대구"
            ]
           ],
           "hovertemplate": "region=%{customdata[0]}<br>month=4<br>usage_frequency=%{x}<br>water_temperature=%{y}<br>water_consumption=%{marker.size}<extra></extra>",
           "legendgroup": "대구",
           "marker": {
            "color": "#ab63fa",
            "size": [
             1.676625
            ],
            "sizemode": "area",
            "sizeref": 0.006254365079365079,
            "symbol": "circle"
           },
           "mode": "markers",
           "name": "대구",
           "orientation": "v",
           "showlegend": true,
           "type": "scatter",
           "x": [
            5.09825
           ],
           "xaxis": "x",
           "y": [
            20.3275
           ],
           "yaxis": "y"
          },
          {
           "customdata": [
            [
             "대전"
            ]
           ],
           "hovertemplate": "region=%{customdata[0]}<br>month=4<br>usage_frequency=%{x}<br>water_temperature=%{y}<br>water_consumption=%{marker.size}<extra></extra>",
           "legendgroup": "대전",
           "marker": {
            "color": "#FFA15A",
            "size": [
             1.1377108433734942
            ],
            "sizemode": "area",
            "sizeref": 0.006254365079365079,
            "symbol": "circle"
           },
           "mode": "markers",
           "name": "대전",
           "orientation": "v",
           "showlegend": true,
           "type": "scatter",
           "x": [
            4.290120481927711
           ],
           "xaxis": "x",
           "y": [
            24.630481927710843
           ],
           "yaxis": "y"
          },
          {
           "customdata": [
            [
             "부산"
            ]
           ],
           "hovertemplate": "region=%{customdata[0]}<br>month=4<br>usage_frequency=%{x}<br>water_temperature=%{y}<br>water_consumption=%{marker.size}<extra></extra>",
           "legendgroup": "부산",
           "marker": {
            "color": "#19d3f3",
            "size": [
             1.7217582417582418
            ],
            "sizemode": "area",
            "sizeref": 0.006254365079365079,
            "symbol": "circle"
           },
           "mode": "markers",
           "name": "부산",
           "orientation": "v",
           "showlegend": true,
           "type": "scatter",
           "x": [
            4.694065934065934
           ],
           "xaxis": "x",
           "y": [
            22.243076923076924
           ],
           "yaxis": "y"
          },
          {
           "customdata": [
            [
             "서울"
            ]
           ],
           "hovertemplate": "region=%{customdata[0]}<br>month=4<br>usage_frequency=%{x}<br>water_temperature=%{y}<br>water_consumption=%{marker.size}<extra></extra>",
           "legendgroup": "서울",
           "marker": {
            "color": "#FF6692",
            "size": [
             2.208382352941176
            ],
            "sizemode": "area",
            "sizeref": 0.006254365079365079,
            "symbol": "circle"
           },
           "mode": "markers",
           "name": "서울",
           "orientation": "v",
           "showlegend": true,
           "type": "scatter",
           "x": [
            3.93264705882353
           ],
           "xaxis": "x",
           "y": [
            25.886617647058824
           ],
           "yaxis": "y"
          },
          {
           "customdata": [
            [
             "울산"
            ]
           ],
           "hovertemplate": "region=%{customdata[0]}<br>month=4<br>usage_frequency=%{x}<br>water_temperature=%{y}<br>water_consumption=%{marker.size}<extra></extra>",
           "legendgroup": "울산",
           "marker": {
            "color": "#B6E880",
            "size": [
             1.182340425531915
            ],
            "sizemode": "area",
            "sizeref": 0.006254365079365079,
            "symbol": "circle"
           },
           "mode": "markers",
           "name": "울산",
           "orientation": "v",
           "showlegend": true,
           "type": "scatter",
           "x": [
            4.739893617021277
           ],
           "xaxis": "x",
           "y": [
            21.84117021276596
           ],
           "yaxis": "y"
          },
          {
           "customdata": [
            [
             "인천"
            ]
           ],
           "hovertemplate": "region=%{customdata[0]}<br>month=4<br>usage_frequency=%{x}<br>water_temperature=%{y}<br>water_consumption=%{marker.size}<extra></extra>",
           "legendgroup": "인천",
           "marker": {
            "color": "#FF97FF",
            "size": [
             1.5790625
            ],
            "sizemode": "area",
            "sizeref": 0.006254365079365079,
            "symbol": "circle"
           },
           "mode": "markers",
           "name": "인천",
           "orientation": "v",
           "showlegend": true,
           "type": "scatter",
           "x": [
            3.9295833333333334
           ],
           "xaxis": "x",
           "y": [
            24.7559375
           ],
           "yaxis": "y"
          },
          {
           "customdata": [
            [
             "제주"
            ]
           ],
           "hovertemplate": "region=%{customdata[0]}<br>month=4<br>usage_frequency=%{x}<br>water_temperature=%{y}<br>water_consumption=%{marker.size}<extra></extra>",
           "legendgroup": "제주",
           "marker": {
            "color": "#FECB52",
            "size": [
             0.7453488372093022
            ],
            "sizemode": "area",
            "sizeref": 0.006254365079365079,
            "symbol": "circle"
           },
           "mode": "markers",
           "name": "제주",
           "orientation": "v",
           "showlegend": true,
           "type": "scatter",
           "x": [
            3.62
           ],
           "xaxis": "x",
           "y": [
            27.234186046511628
           ],
           "yaxis": "y"
          }
         ],
         "name": "4"
        },
        {
         "data": [
          {
           "customdata": [
            [
             "경기"
            ]
           ],
           "hovertemplate": "region=%{customdata[0]}<br>month=5<br>usage_frequency=%{x}<br>water_temperature=%{y}<br>water_consumption=%{marker.size}<extra></extra>",
           "legendgroup": "경기",
           "marker": {
            "color": "#636efa",
            "size": [
             1.5606666666666666
            ],
            "sizemode": "area",
            "sizeref": 0.006254365079365079,
            "symbol": "circle"
           },
           "mode": "markers",
           "name": "경기",
           "orientation": "v",
           "showlegend": true,
           "type": "scatter",
           "x": [
            4.429666666666667
           ],
           "xaxis": "x",
           "y": [
            23.29922222222222
           ],
           "yaxis": "y"
          },
          {
           "customdata": [
            [
             "경남"
            ]
           ],
           "hovertemplate": "region=%{customdata[0]}<br>month=5<br>usage_frequency=%{x}<br>water_temperature=%{y}<br>water_consumption=%{marker.size}<extra></extra>",
           "legendgroup": "경남",
           "marker": {
            "color": "#EF553B",
            "size": [
             0.7639080459770115
            ],
            "sizemode": "area",
            "sizeref": 0.006254365079365079,
            "symbol": "circle"
           },
           "mode": "markers",
           "name": "경남",
           "orientation": "v",
           "showlegend": true,
           "type": "scatter",
           "x": [
            5.005862068965517
           ],
           "xaxis": "x",
           "y": [
            20.996896551724138
           ],
           "yaxis": "y"
          },
          {
           "customdata": [
            [
             "광주"
            ]
           ],
           "hovertemplate": "region=%{customdata[0]}<br>month=5<br>usage_frequency=%{x}<br>water_temperature=%{y}<br>water_consumption=%{marker.size}<extra></extra>",
           "legendgroup": "광주",
           "marker": {
            "color": "#00cc96",
            "size": [
             1.2775789473684211
            ],
            "sizemode": "area",
            "sizeref": 0.006254365079365079,
            "symbol": "circle"
           },
           "mode": "markers",
           "name": "광주",
           "orientation": "v",
           "showlegend": true,
           "type": "scatter",
           "x": [
            4.711052631578948
           ],
           "xaxis": "x",
           "y": [
            22.00473684210526
           ],
           "yaxis": "y"
          },
          {
           "customdata": [
            [
             "대구"
            ]
           ],
           "hovertemplate": "region=%{customdata[0]}<br>month=5<br>usage_frequency=%{x}<br>water_temperature=%{y}<br>water_consumption=%{marker.size}<extra></extra>",
           "legendgroup": "대구",
           "marker": {
            "color": "#ab63fa",
            "size": [
             1.602236842105263
            ],
            "sizemode": "area",
            "sizeref": 0.006254365079365079,
            "symbol": "circle"
           },
           "mode": "markers",
           "name": "대구",
           "orientation": "v",
           "showlegend": true,
           "type": "scatter",
           "x": [
            5.565131578947368
           ],
           "xaxis": "x",
           "y": [
            18.252894736842105
           ],
           "yaxis": "y"
          },
          {
           "customdata": [
            [
             "대전"
            ]
           ],
           "hovertemplate": "region=%{customdata[0]}<br>month=5<br>usage_frequency=%{x}<br>water_temperature=%{y}<br>water_consumption=%{marker.size}<extra></extra>",
           "legendgroup": "대전",
           "marker": {
            "color": "#FFA15A",
            "size": [
             1.1833333333333333
            ],
            "sizemode": "area",
            "sizeref": 0.006254365079365079,
            "symbol": "circle"
           },
           "mode": "markers",
           "name": "대전",
           "orientation": "v",
           "showlegend": true,
           "type": "scatter",
           "x": [
            4.719358974358975
           ],
           "xaxis": "x",
           "y": [
            21.823846153846155
           ],
           "yaxis": "y"
          },
          {
           "customdata": [
            [
             "부산"
            ]
           ],
           "hovertemplate": "region=%{customdata[0]}<br>month=5<br>usage_frequency=%{x}<br>water_temperature=%{y}<br>water_consumption=%{marker.size}<extra></extra>",
           "legendgroup": "부산",
           "marker": {
            "color": "#19d3f3",
            "size": [
             1.8690804597701152
            ],
            "sizemode": "area",
            "sizeref": 0.006254365079365079,
            "symbol": "circle"
           },
           "mode": "markers",
           "name": "부산",
           "orientation": "v",
           "showlegend": true,
           "type": "scatter",
           "x": [
            5.225977011494253
           ],
           "xaxis": "x",
           "y": [
            19.871724137931032
           ],
           "yaxis": "y"
          },
          {
           "customdata": [
            [
             "서울"
            ]
           ],
           "hovertemplate": "region=%{customdata[0]}<br>month=5<br>usage_frequency=%{x}<br>water_temperature=%{y}<br>water_consumption=%{marker.size}<extra></extra>",
           "legendgroup": "서울",
           "marker": {
            "color": "#FF6692",
            "size": [
             2.121341463414634
            ],
            "sizemode": "area",
            "sizeref": 0.006254365079365079,
            "symbol": "circle"
           },
           "mode": "markers",
           "name": "서울",
           "orientation": "v",
           "showlegend": true,
           "type": "scatter",
           "x": [
            4.2787804878048785
           ],
           "xaxis": "x",
           "y": [
            23.139634146341464
           ],
           "yaxis": "y"
          },
          {
           "customdata": [
            [
             "울산"
            ]
           ],
           "hovertemplate": "region=%{customdata[0]}<br>month=5<br>usage_frequency=%{x}<br>water_temperature=%{y}<br>water_consumption=%{marker.size}<extra></extra>",
           "legendgroup": "울산",
           "marker": {
            "color": "#B6E880",
            "size": [
             1.2139325842696629
            ],
            "sizemode": "area",
            "sizeref": 0.006254365079365079,
            "symbol": "circle"
           },
           "mode": "markers",
           "name": "울산",
           "orientation": "v",
           "showlegend": true,
           "type": "scatter",
           "x": [
            5.186292134831461
           ],
           "xaxis": "x",
           "y": [
            19.705280898876403
           ],
           "yaxis": "y"
          },
          {
           "customdata": [
            [
             "인천"
            ]
           ],
           "hovertemplate": "region=%{customdata[0]}<br>month=5<br>usage_frequency=%{x}<br>water_temperature=%{y}<br>water_consumption=%{marker.size}<extra></extra>",
           "legendgroup": "인천",
           "marker": {
            "color": "#FF97FF",
            "size": [
             1.4008536585365854
            ],
            "sizemode": "area",
            "sizeref": 0.006254365079365079,
            "symbol": "circle"
           },
           "mode": "markers",
           "name": "인천",
           "orientation": "v",
           "showlegend": true,
           "type": "scatter",
           "x": [
            4.373536585365853
           ],
           "xaxis": "x",
           "y": [
            23.446951219512197
           ],
           "yaxis": "y"
          },
          {
           "customdata": [
            [
             "제주"
            ]
           ],
           "hovertemplate": "region=%{customdata[0]}<br>month=5<br>usage_frequency=%{x}<br>water_temperature=%{y}<br>water_consumption=%{marker.size}<extra></extra>",
           "legendgroup": "제주",
           "marker": {
            "color": "#FECB52",
            "size": [
             0.8111428571428572
            ],
            "sizemode": "area",
            "sizeref": 0.006254365079365079,
            "symbol": "circle"
           },
           "mode": "markers",
           "name": "제주",
           "orientation": "v",
           "showlegend": true,
           "type": "scatter",
           "x": [
            4.122857142857143
           ],
           "xaxis": "x",
           "y": [
            24.198571428571427
           ],
           "yaxis": "y"
          }
         ],
         "name": "5"
        },
        {
         "data": [
          {
           "customdata": [
            [
             "경기"
            ]
           ],
           "hovertemplate": "region=%{customdata[0]}<br>month=6<br>usage_frequency=%{x}<br>water_temperature=%{y}<br>water_consumption=%{marker.size}<extra></extra>",
           "legendgroup": "경기",
           "marker": {
            "color": "#636efa",
            "size": [
             1.43
            ],
            "sizemode": "area",
            "sizeref": 0.006254365079365079,
            "symbol": "circle"
           },
           "mode": "markers",
           "name": "경기",
           "orientation": "v",
           "showlegend": true,
           "type": "scatter",
           "x": [
            4.7076
           ],
           "xaxis": "x",
           "y": [
            20.221333333333334
           ],
           "yaxis": "y"
          },
          {
           "customdata": [
            [
             "경남"
            ]
           ],
           "hovertemplate": "region=%{customdata[0]}<br>month=6<br>usage_frequency=%{x}<br>water_temperature=%{y}<br>water_consumption=%{marker.size}<extra></extra>",
           "legendgroup": "경남",
           "marker": {
            "color": "#EF553B",
            "size": [
             0.757625
            ],
            "sizemode": "area",
            "sizeref": 0.006254365079365079,
            "symbol": "circle"
           },
           "mode": "markers",
           "name": "경남",
           "orientation": "v",
           "showlegend": true,
           "type": "scatter",
           "x": [
            5.4556249999999995
           ],
           "xaxis": "x",
           "y": [
            18.168125
           ],
           "yaxis": "y"
          },
          {
           "customdata": [
            [
             "광주"
            ]
           ],
           "hovertemplate": "region=%{customdata[0]}<br>month=6<br>usage_frequency=%{x}<br>water_temperature=%{y}<br>water_consumption=%{marker.size}<extra></extra>",
           "legendgroup": "광주",
           "marker": {
            "color": "#00cc96",
            "size": [
             1.186063829787234
            ],
            "sizemode": "area",
            "sizeref": 0.006254365079365079,
            "symbol": "circle"
           },
           "mode": "markers",
           "name": "광주",
           "orientation": "v",
           "showlegend": true,
           "type": "scatter",
           "x": [
            5.271702127659575
           ],
           "xaxis": "x",
           "y": [
            18.949255319148936
           ],
           "yaxis": "y"
          },
          {
           "customdata": [
            [
             "대구"
            ]
           ],
           "hovertemplate": "region=%{customdata[0]}<br>month=6<br>usage_frequency=%{x}<br>water_temperature=%{y}<br>water_consumption=%{marker.size}<extra></extra>",
           "legendgroup": "대구",
           "marker": {
            "color": "#ab63fa",
            "size": [
             1.5980246913580247
            ],
            "sizemode": "area",
            "sizeref": 0.006254365079365079,
            "symbol": "circle"
           },
           "mode": "markers",
           "name": "대구",
           "orientation": "v",
           "showlegend": true,
           "type": "scatter",
           "x": [
            6.281111111111111
           ],
           "xaxis": "x",
           "y": [
            15.812098765432099
           ],
           "yaxis": "y"
          },
          {
           "customdata": [
            [
             "대전"
            ]
           ],
           "hovertemplate": "region=%{customdata[0]}<br>month=6<br>usage_frequency=%{x}<br>water_temperature=%{y}<br>water_consumption=%{marker.size}<extra></extra>",
           "legendgroup": "대전",
           "marker": {
            "color": "#FFA15A",
            "size": [
             1.3209722222222222
            ],
            "sizemode": "area",
            "sizeref": 0.006254365079365079,
            "symbol": "circle"
           },
           "mode": "markers",
           "name": "대전",
           "orientation": "v",
           "showlegend": true,
           "type": "scatter",
           "x": [
            5.164861111111112
           ],
           "xaxis": "x",
           "y": [
            19.367222222222225
           ],
           "yaxis": "y"
          },
          {
           "customdata": [
            [
             "부산"
            ]
           ],
           "hovertemplate": "region=%{customdata[0]}<br>month=6<br>usage_frequency=%{x}<br>water_temperature=%{y}<br>water_consumption=%{marker.size}<extra></extra>",
           "legendgroup": "부산",
           "marker": {
            "color": "#19d3f3",
            "size": [
             1.8782352941176472
            ],
            "sizemode": "area",
            "sizeref": 0.006254365079365079,
            "symbol": "circle"
           },
           "mode": "markers",
           "name": "부산",
           "orientation": "v",
           "showlegend": true,
           "type": "scatter",
           "x": [
            5.776
           ],
           "xaxis": "x",
           "y": [
            16.99835294117647
           ],
           "yaxis": "y"
          },
          {
           "customdata": [
            [
             "서울"
            ]
           ],
           "hovertemplate": "region=%{customdata[0]}<br>month=6<br>usage_frequency=%{x}<br>water_temperature=%{y}<br>water_consumption=%{marker.size}<extra></extra>",
           "legendgroup": "서울",
           "marker": {
            "color": "#FF6692",
            "size": [
             2.267156862745098
            ],
            "sizemode": "area",
            "sizeref": 0.006254365079365079,
            "symbol": "circle"
           },
           "mode": "markers",
           "name": "서울",
           "orientation": "v",
           "showlegend": true,
           "type": "scatter",
           "x": [
            4.772647058823529
           ],
           "xaxis": "x",
           "y": [
            20.387254901960784
           ],
           "yaxis": "y"
          },
          {
           "customdata": [
            [
             "울산"
            ]
           ],
           "hovertemplate": "region=%{customdata[0]}<br>month=6<br>usage_frequency=%{x}<br>water_temperature=%{y}<br>water_consumption=%{marker.size}<extra></extra>",
           "legendgroup": "울산",
           "marker": {
            "color": "#B6E880",
            "size": [
             1.1659740259740259
            ],
            "sizemode": "area",
            "sizeref": 0.006254365079365079,
            "symbol": "circle"
           },
           "mode": "markers",
           "name": "울산",
           "orientation": "v",
           "showlegend": true,
           "type": "scatter",
           "x": [
            5.746363636363637
           ],
           "xaxis": "x",
           "y": [
            17.37142857142857
           ],
           "yaxis": "y"
          },
          {
           "customdata": [
            [
             "인천"
            ]
           ],
           "hovertemplate": "region=%{customdata[0]}<br>month=6<br>usage_frequency=%{x}<br>water_temperature=%{y}<br>water_consumption=%{marker.size}<extra></extra>",
           "legendgroup": "인천",
           "marker": {
            "color": "#FF97FF",
            "size": [
             1.3955555555555557
            ],
            "sizemode": "area",
            "sizeref": 0.006254365079365079,
            "symbol": "circle"
           },
           "mode": "markers",
           "name": "인천",
           "orientation": "v",
           "showlegend": true,
           "type": "scatter",
           "x": [
            4.7020987654320985
           ],
           "xaxis": "x",
           "y": [
            20.43679012345679
           ],
           "yaxis": "y"
          },
          {
           "customdata": [
            [
             "제주"
            ]
           ],
           "hovertemplate": "region=%{customdata[0]}<br>month=6<br>usage_frequency=%{x}<br>water_temperature=%{y}<br>water_consumption=%{marker.size}<extra></extra>",
           "legendgroup": "제주",
           "marker": {
            "color": "#FECB52",
            "size": [
             0.7726760563380282
            ],
            "sizemode": "area",
            "sizeref": 0.006254365079365079,
            "symbol": "circle"
           },
           "mode": "markers",
           "name": "제주",
           "orientation": "v",
           "showlegend": true,
           "type": "scatter",
           "x": [
            4.584788732394366
           ],
           "xaxis": "x",
           "y": [
            21.568732394366197
           ],
           "yaxis": "y"
          }
         ],
         "name": "6"
        },
        {
         "data": [
          {
           "customdata": [
            [
             "경기"
            ]
           ],
           "hovertemplate": "region=%{customdata[0]}<br>month=7<br>usage_frequency=%{x}<br>water_temperature=%{y}<br>water_consumption=%{marker.size}<extra></extra>",
           "legendgroup": "경기",
           "marker": {
            "color": "#636efa",
            "size": [
             1.35425
            ],
            "sizemode": "area",
            "sizeref": 0.006254365079365079,
            "symbol": "circle"
           },
           "mode": "markers",
           "name": "경기",
           "orientation": "v",
           "showlegend": true,
           "type": "scatter",
           "x": [
            5.247
           ],
           "xaxis": "x",
           "y": [
            16.694625
           ],
           "yaxis": "y"
          },
          {
           "customdata": [
            [
             "경남"
            ]
           ],
           "hovertemplate": "region=%{customdata[0]}<br>month=7<br>usage_frequency=%{x}<br>water_temperature=%{y}<br>water_consumption=%{marker.size}<extra></extra>",
           "legendgroup": "경남",
           "marker": {
            "color": "#EF553B",
            "size": [
             0.7810389610389611
            ],
            "sizemode": "area",
            "sizeref": 0.006254365079365079,
            "symbol": "circle"
           },
           "mode": "markers",
           "name": "경남",
           "orientation": "v",
           "showlegend": true,
           "type": "scatter",
           "x": [
            6.054805194805195
           ],
           "xaxis": "x",
           "y": [
            15.12974025974026
           ],
           "yaxis": "y"
          },
          {
           "customdata": [
            [
             "광주"
            ]
           ],
           "hovertemplate": "region=%{customdata[0]}<br>month=7<br>usage_frequency=%{x}<br>water_temperature=%{y}<br>water_consumption=%{marker.size}<extra></extra>",
           "legendgroup": "광주",
           "marker": {
            "color": "#00cc96",
            "size": [
             1.1767816091954022
            ],
            "sizemode": "area",
            "sizeref": 0.006254365079365079,
            "symbol": "circle"
           },
           "mode": "markers",
           "name": "광주",
           "orientation": "v",
           "showlegend": true,
           "type": "scatter",
           "x": [
            5.789425287356322
           ],
           "xaxis": "x",
           "y": [
            16.080114942528734
           ],
           "yaxis": "y"
          },
          {
           "customdata": [
            [
             "대구"
            ]
           ],
           "hovertemplate": "region=%{customdata[0]}<br>month=7<br>usage_frequency=%{x}<br>water_temperature=%{y}<br>water_consumption=%{marker.size}<extra></extra>",
           "legendgroup": "대구",
           "marker": {
            "color": "#ab63fa",
            "size": [
             1.7914285714285714
            ],
            "sizemode": "area",
            "sizeref": 0.006254365079365079,
            "symbol": "circle"
           },
           "mode": "markers",
           "name": "대구",
           "orientation": "v",
           "showlegend": true,
           "type": "scatter",
           "x": [
            6.721836734693878
           ],
           "xaxis": "x",
           "y": [
            13.216020408163265
           ],
           "yaxis": "y"
          },
          {
           "customdata": [
            [
             "대전"
            ]
           ],
           "hovertemplate": "region=%{customdata[0]}<br>month=7<br>usage_frequency=%{x}<br>water_temperature=%{y}<br>water_consumption=%{marker.size}<extra></extra>",
           "legendgroup": "대전",
           "marker": {
            "color": "#FFA15A",
            "size": [
             1.2479545454545453
            ],
            "sizemode": "area",
            "sizeref": 0.006254365079365079,
            "symbol": "circle"
           },
           "mode": "markers",
           "name": "대전",
           "orientation": "v",
           "showlegend": true,
           "type": "scatter",
           "x": [
            5.609659090909091
           ],
           "xaxis": "x",
           "y": [
            15.926136363636363
           ],
           "yaxis": "y"
          },
          {
           "customdata": [
            [
             "부산"
            ]
           ],
           "hovertemplate": "region=%{customdata[0]}<br>month=7<br>usage_frequency=%{x}<br>water_temperature=%{y}<br>water_consumption=%{marker.size}<extra></extra>",
           "legendgroup": "부산",
           "marker": {
            "color": "#19d3f3",
            "size": [
             1.8368888888888888
            ],
            "sizemode": "area",
            "sizeref": 0.006254365079365079,
            "symbol": "circle"
           },
           "mode": "markers",
           "name": "부산",
           "orientation": "v",
           "showlegend": true,
           "type": "scatter",
           "x": [
            6.268777777777778
           ],
           "xaxis": "x",
           "y": [
            14.015777777777778
           ],
           "yaxis": "y"
          },
          {
           "customdata": [
            [
             "서울"
            ]
           ],
           "hovertemplate": "region=%{customdata[0]}<br>month=7<br>usage_frequency=%{x}<br>water_temperature=%{y}<br>water_consumption=%{marker.size}<extra></extra>",
           "legendgroup": "서울",
           "marker": {
            "color": "#FF6692",
            "size": [
             2.2702631578947368
            ],
            "sizemode": "area",
            "sizeref": 0.006254365079365079,
            "symbol": "circle"
           },
           "mode": "markers",
           "name": "서울",
           "orientation": "v",
           "showlegend": true,
           "type": "scatter",
           "x": [
            5.264868421052632
           ],
           "xaxis": "x",
           "y": [
            17.177236842105263
           ],
           "yaxis": "y"
          },
          {
           "customdata": [
            [
             "울산"
            ]
           ],
           "hovertemplate": "region=%{customdata[0]}<br>month=7<br>usage_frequency=%{x}<br>water_temperature=%{y}<br>water_consumption=%{marker.size}<extra></extra>",
           "legendgroup": "울산",
           "marker": {
            "color": "#B6E880",
            "size": [
             1.2037647058823528
            ],
            "sizemode": "area",
            "sizeref": 0.006254365079365079,
            "symbol": "circle"
           },
           "mode": "markers",
           "name": "울산",
           "orientation": "v",
           "showlegend": true,
           "type": "scatter",
           "x": [
            6.334235294117646
           ],
           "xaxis": "x",
           "y": [
            14.300470588235294
           ],
           "yaxis": "y"
          },
          {
           "customdata": [
            [
             "인천"
            ]
           ],
           "hovertemplate": "region=%{customdata[0]}<br>month=7<br>usage_frequency=%{x}<br>water_temperature=%{y}<br>water_consumption=%{marker.size}<extra></extra>",
           "legendgroup": "인천",
           "marker": {
            "color": "#FF97FF",
            "size": [
             1.523838383838384
            ],
            "sizemode": "area",
            "sizeref": 0.006254365079365079,
            "symbol": "circle"
           },
           "mode": "markers",
           "name": "인천",
           "orientation": "v",
           "showlegend": true,
           "type": "scatter",
           "x": [
            5.288585858585859
           ],
           "xaxis": "x",
           "y": [
            17.087777777777777
           ],
           "yaxis": "y"
          },
          {
           "customdata": [
            [
             "제주"
            ]
           ],
           "hovertemplate": "region=%{customdata[0]}<br>month=7<br>usage_frequency=%{x}<br>water_temperature=%{y}<br>water_consumption=%{marker.size}<extra></extra>",
           "legendgroup": "제주",
           "marker": {
            "color": "#FECB52",
            "size": [
             0.7767088607594936
            ],
            "sizemode": "area",
            "sizeref": 0.006254365079365079,
            "symbol": "circle"
           },
           "mode": "markers",
           "name": "제주",
           "orientation": "v",
           "showlegend": true,
           "type": "scatter",
           "x": [
            5.011898734177215
           ],
           "xaxis": "x",
           "y": [
            17.976835443037977
           ],
           "yaxis": "y"
          }
         ],
         "name": "7"
        },
        {
         "data": [
          {
           "customdata": [
            [
             "경기"
            ]
           ],
           "hovertemplate": "region=%{customdata[0]}<br>month=8<br>usage_frequency=%{x}<br>water_temperature=%{y}<br>water_consumption=%{marker.size}<extra></extra>",
           "legendgroup": "경기",
           "marker": {
            "color": "#636efa",
            "size": [
             1.5542696629213484
            ],
            "sizemode": "area",
            "sizeref": 0.006254365079365079,
            "symbol": "circle"
           },
           "mode": "markers",
           "name": "경기",
           "orientation": "v",
           "showlegend": true,
           "type": "scatter",
           "x": [
            4.887640449438202
           ],
           "xaxis": "x",
           "y": [
            19.24067415730337
           ],
           "yaxis": "y"
          },
          {
           "customdata": [
            [
             "경남"
            ]
           ],
           "hovertemplate": "region=%{customdata[0]}<br>month=8<br>usage_frequency=%{x}<br>water_temperature=%{y}<br>water_consumption=%{marker.size}<extra></extra>",
           "legendgroup": "경남",
           "marker": {
            "color": "#EF553B",
            "size": [
             0.7635227272727273
            ],
            "sizemode": "area",
            "sizeref": 0.006254365079365079,
            "symbol": "circle"
           },
           "mode": "markers",
           "name": "경남",
           "orientation": "v",
           "showlegend": true,
           "type": "scatter",
           "x": [
            5.472727272727273
           ],
           "xaxis": "x",
           "y": [
            17.007045454545455
           ],
           "yaxis": "y"
          },
          {
           "customdata": [
            [
             "광주"
            ]
           ],
           "hovertemplate": "region=%{customdata[0]}<br>month=8<br>usage_frequency=%{x}<br>water_temperature=%{y}<br>water_consumption=%{marker.size}<extra></extra>",
           "legendgroup": "광주",
           "marker": {
            "color": "#00cc96",
            "size": [
             1.1176249999999999
            ],
            "sizemode": "area",
            "sizeref": 0.006254365079365079,
            "symbol": "circle"
           },
           "mode": "markers",
           "name": "광주",
           "orientation": "v",
           "showlegend": true,
           "type": "scatter",
           "x": [
            5.32525
           ],
           "xaxis": "x",
           "y": [
            17.75225
           ],
           "yaxis": "y"
          },
          {
           "customdata": [
            [
             "대구"
            ]
           ],
           "hovertemplate": "region=%{customdata[0]}<br>month=8<br>usage_frequency=%{x}<br>water_temperature=%{y}<br>water_consumption=%{marker.size}<extra></extra>",
           "legendgroup": "대구",
           "marker": {
            "color": "#ab63fa",
            "size": [
             1.6358585858585857
            ],
            "sizemode": "area",
            "sizeref": 0.006254365079365079,
            "symbol": "circle"
           },
           "mode": "markers",
           "name": "대구",
           "orientation": "v",
           "showlegend": true,
           "type": "scatter",
           "x": [
            6.1313131313131315
           ],
           "xaxis": "x",
           "y": [
            14.973939393939395
           ],
           "yaxis": "y"
          },
          {
           "customdata": [
            [
             "대전"
            ]
           ],
           "hovertemplate": "region=%{customdata[0]}<br>month=8<br>usage_frequency=%{x}<br>water_temperature=%{y}<br>water_consumption=%{marker.size}<extra></extra>",
           "legendgroup": "대전",
           "marker": {
            "color": "#FFA15A",
            "size": [
             1.2214666666666667
            ],
            "sizemode": "area",
            "sizeref": 0.006254365079365079,
            "symbol": "circle"
           },
           "mode": "markers",
           "name": "대전",
           "orientation": "v",
           "showlegend": true,
           "type": "scatter",
           "x": [
            5.259733333333333
           ],
           "xaxis": "x",
           "y": [
            17.90373333333333
           ],
           "yaxis": "y"
          },
          {
           "customdata": [
            [
             "부산"
            ]
           ],
           "hovertemplate": "region=%{customdata[0]}<br>month=8<br>usage_frequency=%{x}<br>water_temperature=%{y}<br>water_consumption=%{marker.size}<extra></extra>",
           "legendgroup": "부산",
           "marker": {
            "color": "#19d3f3",
            "size": [
             1.7852747252747254
            ],
            "sizemode": "area",
            "sizeref": 0.006254365079365079,
            "symbol": "circle"
           },
           "mode": "markers",
           "name": "부산",
           "orientation": "v",
           "showlegend": true,
           "type": "scatter",
           "x": [
            5.758681318681318
           ],
           "xaxis": "x",
           "y": [
            16.463736263736266
           ],
           "yaxis": "y"
          },
          {
           "customdata": [
            [
             "서울"
            ]
           ],
           "hovertemplate": "region=%{customdata[0]}<br>month=8<br>usage_frequency=%{x}<br>water_temperature=%{y}<br>water_consumption=%{marker.size}<extra></extra>",
           "legendgroup": "서울",
           "marker": {
            "color": "#FF6692",
            "size": [
             2.3272826086956524
            ],
            "sizemode": "area",
            "sizeref": 0.006254365079365079,
            "symbol": "circle"
           },
           "mode": "markers",
           "name": "서울",
           "orientation": "v",
           "showlegend": true,
           "type": "scatter",
           "x": [
            4.878260869565217
           ],
           "xaxis": "x",
           "y": [
            19.40586956521739
           ],
           "yaxis": "y"
          },
          {
           "customdata": [
            [
             "울산"
            ]
           ],
           "hovertemplate": "region=%{customdata[0]}<br>month=8<br>usage_frequency=%{x}<br>water_temperature=%{y}<br>water_consumption=%{marker.size}<extra></extra>",
           "legendgroup": "울산",
           "marker": {
            "color": "#B6E880",
            "size": [
             1.1285882352941177
            ],
            "sizemode": "area",
            "sizeref": 0.006254365079365079,
            "symbol": "circle"
           },
           "mode": "markers",
           "name": "울산",
           "orientation": "v",
           "showlegend": true,
           "type": "scatter",
           "x": [
            5.765176470588235
           ],
           "xaxis": "x",
           "y": [
            16.340352941176473
           ],
           "yaxis": "y"
          },
          {
           "customdata": [
            [
             "인천"
            ]
           ],
           "hovertemplate": "region=%{customdata[0]}<br>month=8<br>usage_frequency=%{x}<br>water_temperature=%{y}<br>water_consumption=%{marker.size}<extra></extra>",
           "legendgroup": "인천",
           "marker": {
            "color": "#FF97FF",
            "size": [
             1.5461627906976745
            ],
            "sizemode": "area",
            "sizeref": 0.006254365079365079,
            "symbol": "circle"
           },
           "mode": "markers",
           "name": "인천",
           "orientation": "v",
           "showlegend": true,
           "type": "scatter",
           "x": [
            4.923023255813954
           ],
           "xaxis": "x",
           "y": [
            19.47220930232558
           ],
           "yaxis": "y"
          },
          {
           "customdata": [
            [
             "제주"
            ]
           ],
           "hovertemplate": "region=%{customdata[0]}<br>month=8<br>usage_frequency=%{x}<br>water_temperature=%{y}<br>water_consumption=%{marker.size}<extra></extra>",
           "legendgroup": "제주",
           "marker": {
            "color": "#FECB52",
            "size": [
             0.7914444444444445
            ],
            "sizemode": "area",
            "sizeref": 0.006254365079365079,
            "symbol": "circle"
           },
           "mode": "markers",
           "name": "제주",
           "orientation": "v",
           "showlegend": true,
           "type": "scatter",
           "x": [
            4.490444444444444
           ],
           "xaxis": "x",
           "y": [
            20.091
           ],
           "yaxis": "y"
          }
         ],
         "name": "8"
        },
        {
         "data": [
          {
           "customdata": [
            [
             "경기"
            ]
           ],
           "hovertemplate": "region=%{customdata[0]}<br>month=9<br>usage_frequency=%{x}<br>water_temperature=%{y}<br>water_consumption=%{marker.size}<extra></extra>",
           "legendgroup": "경기",
           "marker": {
            "color": "#636efa",
            "size": [
             1.4606315789473683
            ],
            "sizemode": "area",
            "sizeref": 0.006254365079365079,
            "symbol": "circle"
           },
           "mode": "markers",
           "name": "경기",
           "orientation": "v",
           "showlegend": true,
           "type": "scatter",
           "x": [
            4.312842105263158
           ],
           "xaxis": "x",
           "y": [
            21.72578947368421
           ],
           "yaxis": "y"
          },
          {
           "customdata": [
            [
             "경남"
            ]
           ],
           "hovertemplate": "region=%{customdata[0]}<br>month=9<br>usage_frequency=%{x}<br>water_temperature=%{y}<br>water_consumption=%{marker.size}<extra></extra>",
           "legendgroup": "경남",
           "marker": {
            "color": "#EF553B",
            "size": [
             0.7578666666666667
            ],
            "sizemode": "area",
            "sizeref": 0.006254365079365079,
            "symbol": "circle"
           },
           "mode": "markers",
           "name": "경남",
           "orientation": "v",
           "showlegend": true,
           "type": "scatter",
           "x": [
            5.1276
           ],
           "xaxis": "x",
           "y": [
            19.243866666666666
           ],
           "yaxis": "y"
          },
          {
           "customdata": [
            [
             "광주"
            ]
           ],
           "hovertemplate": "region=%{customdata[0]}<br>month=9<br>usage_frequency=%{x}<br>water_temperature=%{y}<br>water_consumption=%{marker.size}<extra></extra>",
           "legendgroup": "광주",
           "marker": {
            "color": "#00cc96",
            "size": [
             1.2025274725274726
            ],
            "sizemode": "area",
            "sizeref": 0.006254365079365079,
            "symbol": "circle"
           },
           "mode": "markers",
           "name": "광주",
           "orientation": "v",
           "showlegend": true,
           "type": "scatter",
           "x": [
            4.791208791208791
           ],
           "xaxis": "x",
           "y": [
            19.846813186813186
           ],
           "yaxis": "y"
          },
          {
           "customdata": [
            [
             "대구"
            ]
           ],
           "hovertemplate": "region=%{customdata[0]}<br>month=9<br>usage_frequency=%{x}<br>water_temperature=%{y}<br>water_consumption=%{marker.size}<extra></extra>",
           "legendgroup": "대구",
           "marker": {
            "color": "#ab63fa",
            "size": [
             1.6671
            ],
            "sizemode": "area",
            "sizeref": 0.006254365079365079,
            "symbol": "circle"
           },
           "mode": "markers",
           "name": "대구",
           "orientation": "v",
           "showlegend": true,
           "type": "scatter",
           "x": [
            5.65
           ],
           "xaxis": "x",
           "y": [
            16.406200000000002
           ],
           "yaxis": "y"
          },
          {
           "customdata": [
            [
             "대전"
            ]
           ],
           "hovertemplate": "region=%{customdata[0]}<br>month=9<br>usage_frequency=%{x}<br>water_temperature=%{y}<br>water_consumption=%{marker.size}<extra></extra>",
           "legendgroup": "대전",
           "marker": {
            "color": "#FFA15A",
            "size": [
             1.1739772727272728
            ],
            "sizemode": "area",
            "sizeref": 0.006254365079365079,
            "symbol": "circle"
           },
           "mode": "markers",
           "name": "대전",
           "orientation": "v",
           "showlegend": true,
           "type": "scatter",
           "x": [
            4.750909090909091
           ],
           "xaxis": "x",
           "y": [
            20.20886363636364
           ],
           "yaxis": "y"
          },
          {
           "customdata": [
            [
             "부산"
            ]
           ],
           "hovertemplate": "region=%{customdata[0]}<br>month=9<br>usage_frequency=%{x}<br>water_temperature=%{y}<br>water_consumption=%{marker.size}<extra></extra>",
           "legendgroup": "부산",
           "marker": {
            "color": "#19d3f3",
            "size": [
             1.8599999999999999
            ],
            "sizemode": "area",
            "sizeref": 0.006254365079365079,
            "symbol": "circle"
           },
           "mode": "markers",
           "name": "부산",
           "orientation": "v",
           "showlegend": true,
           "type": "scatter",
           "x": [
            5.382962962962963
           ],
           "xaxis": "x",
           "y": [
            17.619506172839507
           ],
           "yaxis": "y"
          },
          {
           "customdata": [
            [
             "서울"
            ]
           ],
           "hovertemplate": "region=%{customdata[0]}<br>month=9<br>usage_frequency=%{x}<br>water_temperature=%{y}<br>water_consumption=%{marker.size}<extra></extra>",
           "legendgroup": "서울",
           "marker": {
            "color": "#FF6692",
            "size": [
             2.3491666666666666
            ],
            "sizemode": "area",
            "sizeref": 0.006254365079365079,
            "symbol": "circle"
           },
           "mode": "markers",
           "name": "서울",
           "orientation": "v",
           "showlegend": true,
           "type": "scatter",
           "x": [
            4.394027777777778
           ],
           "xaxis": "x",
           "y": [
            21.389027777777777
           ],
           "yaxis": "y"
          },
          {
           "customdata": [
            [
             "울산"
            ]
           ],
           "hovertemplate": "region=%{customdata[0]}<br>month=9<br>usage_frequency=%{x}<br>water_temperature=%{y}<br>water_consumption=%{marker.size}<extra></extra>",
           "legendgroup": "울산",
           "marker": {
            "color": "#B6E880",
            "size": [
             1.2673239436619719
            ],
            "sizemode": "area",
            "sizeref": 0.006254365079365079,
            "symbol": "circle"
           },
           "mode": "markers",
           "name": "울산",
           "orientation": "v",
           "showlegend": true,
           "type": "scatter",
           "x": [
            5.347887323943662
           ],
           "xaxis": "x",
           "y": [
            17.849295774647885
           ],
           "yaxis": "y"
          },
          {
           "customdata": [
            [
             "인천"
            ]
           ],
           "hovertemplate": "region=%{customdata[0]}<br>month=9<br>usage_frequency=%{x}<br>water_temperature=%{y}<br>water_consumption=%{marker.size}<extra></extra>",
           "legendgroup": "인천",
           "marker": {
            "color": "#FF97FF",
            "size": [
             1.5130985915492958
            ],
            "sizemode": "area",
            "sizeref": 0.006254365079365079,
            "symbol": "circle"
           },
           "mode": "markers",
           "name": "인천",
           "orientation": "v",
           "showlegend": true,
           "type": "scatter",
           "x": [
            4.310704225352112
           ],
           "xaxis": "x",
           "y": [
            21.52225352112676
           ],
           "yaxis": "y"
          },
          {
           "customdata": [
            [
             "제주"
            ]
           ],
           "hovertemplate": "region=%{customdata[0]}<br>month=9<br>usage_frequency=%{x}<br>water_temperature=%{y}<br>water_consumption=%{marker.size}<extra></extra>",
           "legendgroup": "제주",
           "marker": {
            "color": "#FECB52",
            "size": [
             0.7497499999999999
            ],
            "sizemode": "area",
            "sizeref": 0.006254365079365079,
            "symbol": "circle"
           },
           "mode": "markers",
           "name": "제주",
           "orientation": "v",
           "showlegend": true,
           "type": "scatter",
           "x": [
            4.09825
           ],
           "xaxis": "x",
           "y": [
            22.07775
           ],
           "yaxis": "y"
          }
         ],
         "name": "9"
        },
        {
         "data": [
          {
           "customdata": [
            [
             "경기"
            ]
           ],
           "hovertemplate": "region=%{customdata[0]}<br>month=10<br>usage_frequency=%{x}<br>water_temperature=%{y}<br>water_consumption=%{marker.size}<extra></extra>",
           "legendgroup": "경기",
           "marker": {
            "color": "#636efa",
            "size": [
             1.5146341463414634
            ],
            "sizemode": "area",
            "sizeref": 0.006254365079365079,
            "symbol": "circle"
           },
           "mode": "markers",
           "name": "경기",
           "orientation": "v",
           "showlegend": true,
           "type": "scatter",
           "x": [
            3.8246341463414635
           ],
           "xaxis": "x",
           "y": [
            23.780731707317074
           ],
           "yaxis": "y"
          },
          {
           "customdata": [
            [
             "경남"
            ]
           ],
           "hovertemplate": "region=%{customdata[0]}<br>month=10<br>usage_frequency=%{x}<br>water_temperature=%{y}<br>water_consumption=%{marker.size}<extra></extra>",
           "legendgroup": "경남",
           "marker": {
            "color": "#EF553B",
            "size": [
             0.7398717948717949
            ],
            "sizemode": "area",
            "sizeref": 0.006254365079365079,
            "symbol": "circle"
           },
           "mode": "markers",
           "name": "경남",
           "orientation": "v",
           "showlegend": true,
           "type": "scatter",
           "x": [
            4.412179487179487
           ],
           "xaxis": "x",
           "y": [
            21.31320512820513
           ],
           "yaxis": "y"
          },
          {
           "customdata": [
            [
             "광주"
            ]
           ],
           "hovertemplate": "region=%{customdata[0]}<br>month=10<br>usage_frequency=%{x}<br>water_temperature=%{y}<br>water_consumption=%{marker.size}<extra></extra>",
           "legendgroup": "광주",
           "marker": {
            "color": "#00cc96",
            "size": [
             1.2033749999999999
            ],
            "sizemode": "area",
            "sizeref": 0.006254365079365079,
            "symbol": "circle"
           },
           "mode": "markers",
           "name": "광주",
           "orientation": "v",
           "showlegend": true,
           "type": "scatter",
           "x": [
            4.28725
           ],
           "xaxis": "x",
           "y": [
            21.416375
           ],
           "yaxis": "y"
          },
          {
           "customdata": [
            [
             "대구"
            ]
           ],
           "hovertemplate": "region=%{customdata[0]}<br>month=10<br>usage_frequency=%{x}<br>water_temperature=%{y}<br>water_consumption=%{marker.size}<extra></extra>",
           "legendgroup": "대구",
           "marker": {
            "color": "#ab63fa",
            "size": [
             1.5799999999999998
            ],
            "sizemode": "area",
            "sizeref": 0.006254365079365079,
            "symbol": "circle"
           },
           "mode": "markers",
           "name": "대구",
           "orientation": "v",
           "showlegend": true,
           "type": "scatter",
           "x": [
            5.04056338028169
           ],
           "xaxis": "x",
           "y": [
            18.055915492957748
           ],
           "yaxis": "y"
          },
          {
           "customdata": [
            [
             "대전"
            ]
           ],
           "hovertemplate": "region=%{customdata[0]}<br>month=10<br>usage_frequency=%{x}<br>water_temperature=%{y}<br>water_consumption=%{marker.size}<extra></extra>",
           "legendgroup": "대전",
           "marker": {
            "color": "#FFA15A",
            "size": [
             1.135952380952381
            ],
            "sizemode": "area",
            "sizeref": 0.006254365079365079,
            "symbol": "circle"
           },
           "mode": "markers",
           "name": "대전",
           "orientation": "v",
           "showlegend": true,
           "type": "scatter",
           "x": [
            4.268571428571429
           ],
           "xaxis": "x",
           "y": [
            22.06809523809524
           ],
           "yaxis": "y"
          },
          {
           "customdata": [
            [
             "부산"
            ]
           ],
           "hovertemplate": "region=%{customdata[0]}<br>month=10<br>usage_frequency=%{x}<br>water_temperature=%{y}<br>water_consumption=%{marker.size}<extra></extra>",
           "legendgroup": "부산",
           "marker": {
            "color": "#19d3f3",
            "size": [
             1.7543529411764707
            ],
            "sizemode": "area",
            "sizeref": 0.006254365079365079,
            "symbol": "circle"
           },
           "mode": "markers",
           "name": "부산",
           "orientation": "v",
           "showlegend": true,
           "type": "scatter",
           "x": [
            4.707647058823529
           ],
           "xaxis": "x",
           "y": [
            19.70941176470588
           ],
           "yaxis": "y"
          },
          {
           "customdata": [
            [
             "서울"
            ]
           ],
           "hovertemplate": "region=%{customdata[0]}<br>month=10<br>usage_frequency=%{x}<br>water_temperature=%{y}<br>water_consumption=%{marker.size}<extra></extra>",
           "legendgroup": "서울",
           "marker": {
            "color": "#FF6692",
            "size": [
             2.2343529411764704
            ],
            "sizemode": "area",
            "sizeref": 0.006254365079365079,
            "symbol": "circle"
           },
           "mode": "markers",
           "name": "서울",
           "orientation": "v",
           "showlegend": true,
           "type": "scatter",
           "x": [
            3.894
           ],
           "xaxis": "x",
           "y": [
            23.66423529411765
           ],
           "yaxis": "y"
          },
          {
           "customdata": [
            [
             "울산"
            ]
           ],
           "hovertemplate": "region=%{customdata[0]}<br>month=10<br>usage_frequency=%{x}<br>water_temperature=%{y}<br>water_consumption=%{marker.size}<extra></extra>",
           "legendgroup": "울산",
           "marker": {
            "color": "#B6E880",
            "size": [
             1.2494999999999998
            ],
            "sizemode": "area",
            "sizeref": 0.006254365079365079,
            "symbol": "circle"
           },
           "mode": "markers",
           "name": "울산",
           "orientation": "v",
           "showlegend": true,
           "type": "scatter",
           "x": [
            4.684
           ],
           "xaxis": "x",
           "y": [
            20.254375
           ],
           "yaxis": "y"
          },
          {
           "customdata": [
            [
             "인천"
            ]
           ],
           "hovertemplate": "region=%{customdata[0]}<br>month=10<br>usage_frequency=%{x}<br>water_temperature=%{y}<br>water_consumption=%{marker.size}<extra></extra>",
           "legendgroup": "인천",
           "marker": {
            "color": "#FF97FF",
            "size": [
             1.5447435897435897
            ],
            "sizemode": "area",
            "sizeref": 0.006254365079365079,
            "symbol": "circle"
           },
           "mode": "markers",
           "name": "인천",
           "orientation": "v",
           "showlegend": true,
           "type": "scatter",
           "x": [
            3.911282051282051
           ],
           "xaxis": "x",
           "y": [
            23.193589743589744
           ],
           "yaxis": "y"
          },
          {
           "customdata": [
            [
             "제주"
            ]
           ],
           "hovertemplate": "region=%{customdata[0]}<br>month=10<br>usage_frequency=%{x}<br>water_temperature=%{y}<br>water_consumption=%{marker.size}<extra></extra>",
           "legendgroup": "제주",
           "marker": {
            "color": "#FECB52",
            "size": [
             0.7468604651162791
            ],
            "sizemode": "area",
            "sizeref": 0.006254365079365079,
            "symbol": "circle"
           },
           "mode": "markers",
           "name": "제주",
           "orientation": "v",
           "showlegend": true,
           "type": "scatter",
           "x": [
            3.6375581395348835
           ],
           "xaxis": "x",
           "y": [
            25.442325581395348
           ],
           "yaxis": "y"
          }
         ],
         "name": "10"
        },
        {
         "data": [
          {
           "customdata": [
            [
             "경기"
            ]
           ],
           "hovertemplate": "region=%{customdata[0]}<br>month=11<br>usage_frequency=%{x}<br>water_temperature=%{y}<br>water_consumption=%{marker.size}<extra></extra>",
           "legendgroup": "경기",
           "marker": {
            "color": "#636efa",
            "size": [
             1.6027173913043478
            ],
            "sizemode": "area",
            "sizeref": 0.006254365079365079,
            "symbol": "circle"
           },
           "mode": "markers",
           "name": "경기",
           "orientation": "v",
           "showlegend": true,
           "type": "scatter",
           "x": [
            3.479891304347826
           ],
           "xaxis": "x",
           "y": [
            26.541847826086954
           ],
           "yaxis": "y"
          },
          {
           "customdata": [
            [
             "경남"
            ]
           ],
           "hovertemplate": "region=%{customdata[0]}<br>month=11<br>usage_frequency=%{x}<br>water_temperature=%{y}<br>water_consumption=%{marker.size}<extra></extra>",
           "legendgroup": "경남",
           "marker": {
            "color": "#EF553B",
            "size": [
             0.7133734939759037
            ],
            "sizemode": "area",
            "sizeref": 0.006254365079365079,
            "symbol": "circle"
           },
           "mode": "markers",
           "name": "경남",
           "orientation": "v",
           "showlegend": true,
           "type": "scatter",
           "x": [
            4.007228915662651
           ],
           "xaxis": "x",
           "y": [
            23.15397590361446
           ],
           "yaxis": "y"
          },
          {
           "customdata": [
            [
             "광주"
            ]
           ],
           "hovertemplate": "region=%{customdata[0]}<br>month=11<br>usage_frequency=%{x}<br>water_temperature=%{y}<br>water_consumption=%{marker.size}<extra></extra>",
           "legendgroup": "광주",
           "marker": {
            "color": "#00cc96",
            "size": [
             1.2273611111111111
            ],
            "sizemode": "area",
            "sizeref": 0.006254365079365079,
            "symbol": "circle"
           },
           "mode": "markers",
           "name": "광주",
           "orientation": "v",
           "showlegend": true,
           "type": "scatter",
           "x": [
            3.753611111111111
           ],
           "xaxis": "x",
           "y": [
            24.161527777777778
           ],
           "yaxis": "y"
          },
          {
           "customdata": [
            [
             "대구"
            ]
           ],
           "hovertemplate": "region=%{customdata[0]}<br>month=11<br>usage_frequency=%{x}<br>water_temperature=%{y}<br>water_consumption=%{marker.size}<extra></extra>",
           "legendgroup": "대구",
           "marker": {
            "color": "#ab63fa",
            "size": [
             1.7569230769230768
            ],
            "sizemode": "area",
            "sizeref": 0.006254365079365079,
            "symbol": "circle"
           },
           "mode": "markers",
           "name": "대구",
           "orientation": "v",
           "showlegend": true,
           "type": "scatter",
           "x": [
            4.4484615384615385
           ],
           "xaxis": "x",
           "y": [
            19.883406593406594
           ],
           "yaxis": "y"
          },
          {
           "customdata": [
            [
             "대전"
            ]
           ],
           "hovertemplate": "region=%{customdata[0]}<br>month=11<br>usage_frequency=%{x}<br>water_temperature=%{y}<br>water_consumption=%{marker.size}<extra></extra>",
           "legendgroup": "대전",
           "marker": {
            "color": "#FFA15A",
            "size": [
             1.3729508196721312
            ],
            "sizemode": "area",
            "sizeref": 0.006254365079365079,
            "symbol": "circle"
           },
           "mode": "markers",
           "name": "대전",
           "orientation": "v",
           "showlegend": true,
           "type": "scatter",
           "x": [
            3.8704918032786884
           ],
           "xaxis": "x",
           "y": [
            24.351475409836066
           ],
           "yaxis": "y"
          },
          {
           "customdata": [
            [
             "부산"
            ]
           ],
           "hovertemplate": "region=%{customdata[0]}<br>month=11<br>usage_frequency=%{x}<br>water_temperature=%{y}<br>water_consumption=%{marker.size}<extra></extra>",
           "legendgroup": "부산",
           "marker": {
            "color": "#19d3f3",
            "size": [
             1.7009375
            ],
            "sizemode": "area",
            "sizeref": 0.006254365079365079,
            "symbol": "circle"
           },
           "mode": "markers",
           "name": "부산",
           "orientation": "v",
           "showlegend": true,
           "type": "scatter",
           "x": [
            4.2334375
           ],
           "xaxis": "x",
           "y": [
            21.61671875
           ],
           "yaxis": "y"
          },
          {
           "customdata": [
            [
             "서울"
            ]
           ],
           "hovertemplate": "region=%{customdata[0]}<br>month=11<br>usage_frequency=%{x}<br>water_temperature=%{y}<br>water_consumption=%{marker.size}<extra></extra>",
           "legendgroup": "서울",
           "marker": {
            "color": "#FF6692",
            "size": [
             2.4082222222222223
            ],
            "sizemode": "area",
            "sizeref": 0.006254365079365079,
            "symbol": "circle"
           },
           "mode": "markers",
           "name": "서울",
           "orientation": "v",
           "showlegend": true,
           "type": "scatter",
           "x": [
            3.4917777777777776
           ],
           "xaxis": "x",
           "y": [
            25.852666666666668
           ],
           "yaxis": "y"
          },
          {
           "customdata": [
            [
             "울산"
            ]
           ],
           "hovertemplate": "region=%{customdata[0]}<br>month=11<br>usage_frequency=%{x}<br>water_temperature=%{y}<br>water_consumption=%{marker.size}<extra></extra>",
           "legendgroup": "울산",
           "marker": {
            "color": "#B6E880",
            "size": [
             1.2454255319148935
            ],
            "sizemode": "area",
            "sizeref": 0.006254365079365079,
            "symbol": "circle"
           },
           "mode": "markers",
           "name": "울산",
           "orientation": "v",
           "showlegend": true,
           "type": "scatter",
           "x": [
            4.183829787234043
           ],
           "xaxis": "x",
           "y": [
            21.805319148936167
           ],
           "yaxis": "y"
          },
          {
           "customdata": [
            [
             "인천"
            ]
           ],
           "hovertemplate": "region=%{customdata[0]}<br>month=11<br>usage_frequency=%{x}<br>water_temperature=%{y}<br>water_consumption=%{marker.size}<extra></extra>",
           "legendgroup": "인천",
           "marker": {
            "color": "#FF97FF",
            "size": [
             1.3830379746835444
            ],
            "sizemode": "area",
            "sizeref": 0.006254365079365079,
            "symbol": "circle"
           },
           "mode": "markers",
           "name": "인천",
           "orientation": "v",
           "showlegend": true,
           "type": "scatter",
           "x": [
            3.5443037974683542
           ],
           "xaxis": "x",
           "y": [
            25.63607594936709
           ],
           "yaxis": "y"
          },
          {
           "customdata": [
            [
             "제주"
            ]
           ],
           "hovertemplate": "region=%{customdata[0]}<br>month=11<br>usage_frequency=%{x}<br>water_temperature=%{y}<br>water_consumption=%{marker.size}<extra></extra>",
           "legendgroup": "제주",
           "marker": {
            "color": "#FECB52",
            "size": [
             0.7601111111111111
            ],
            "sizemode": "area",
            "sizeref": 0.006254365079365079,
            "symbol": "circle"
           },
           "mode": "markers",
           "name": "제주",
           "orientation": "v",
           "showlegend": true,
           "type": "scatter",
           "x": [
            3.2805555555555554
           ],
           "xaxis": "x",
           "y": [
            27.558444444444447
           ],
           "yaxis": "y"
          }
         ],
         "name": "11"
        },
        {
         "data": [
          {
           "customdata": [
            [
             "경기"
            ]
           ],
           "hovertemplate": "region=%{customdata[0]}<br>month=12<br>usage_frequency=%{x}<br>water_temperature=%{y}<br>water_consumption=%{marker.size}<extra></extra>",
           "legendgroup": "경기",
           "marker": {
            "color": "#636efa",
            "size": [
             1.4506756756756756
            ],
            "sizemode": "area",
            "sizeref": 0.006254365079365079,
            "symbol": "circle"
           },
           "mode": "markers",
           "name": "경기",
           "orientation": "v",
           "showlegend": true,
           "type": "scatter",
           "x": [
            2.997702702702703
           ],
           "xaxis": "x",
           "y": [
            27.045135135135133
           ],
           "yaxis": "y"
          },
          {
           "customdata": [
            [
             "경남"
            ]
           ],
           "hovertemplate": "region=%{customdata[0]}<br>month=12<br>usage_frequency=%{x}<br>water_temperature=%{y}<br>water_consumption=%{marker.size}<extra></extra>",
           "legendgroup": "경남",
           "marker": {
            "color": "#EF553B",
            "size": [
             0.7848148148148149
            ],
            "sizemode": "area",
            "sizeref": 0.006254365079365079,
            "symbol": "circle"
           },
           "mode": "markers",
           "name": "경남",
           "orientation": "v",
           "showlegend": true,
           "type": "scatter",
           "x": [
            3.4676543209876542
           ],
           "xaxis": "x",
           "y": [
            25.27913580246914
           ],
           "yaxis": "y"
          },
          {
           "customdata": [
            [
             "광주"
            ]
           ],
           "hovertemplate": "region=%{customdata[0]}<br>month=12<br>usage_frequency=%{x}<br>water_temperature=%{y}<br>water_consumption=%{marker.size}<extra></extra>",
           "legendgroup": "광주",
           "marker": {
            "color": "#00cc96",
            "size": [
             1.122948717948718
            ],
            "sizemode": "area",
            "sizeref": 0.006254365079365079,
            "symbol": "circle"
           },
           "mode": "markers",
           "name": "광주",
           "orientation": "v",
           "showlegend": true,
           "type": "scatter",
           "x": [
            3.370769230769231
           ],
           "xaxis": "x",
           "y": [
            26.68551282051282
           ],
           "yaxis": "y"
          },
          {
           "customdata": [
            [
             "대구"
            ]
           ],
           "hovertemplate": "region=%{customdata[0]}<br>month=12<br>usage_frequency=%{x}<br>water_temperature=%{y}<br>water_consumption=%{marker.size}<extra></extra>",
           "legendgroup": "대구",
           "marker": {
            "color": "#ab63fa",
            "size": [
             1.5994565217391306
            ],
            "sizemode": "area",
            "sizeref": 0.006254365079365079,
            "symbol": "circle"
           },
           "mode": "markers",
           "name": "대구",
           "orientation": "v",
           "showlegend": true,
           "type": "scatter",
           "x": [
            4.057934782608696
           ],
           "xaxis": "x",
           "y": [
            22.207173913043476
           ],
           "yaxis": "y"
          },
          {
           "customdata": [
            [
             "대전"
            ]
           ],
           "hovertemplate": "region=%{customdata[0]}<br>month=12<br>usage_frequency=%{x}<br>water_temperature=%{y}<br>water_consumption=%{marker.size}<extra></extra>",
           "legendgroup": "대전",
           "marker": {
            "color": "#FFA15A",
            "size": [
             1.1410638297872342
            ],
            "sizemode": "area",
            "sizeref": 0.006254365079365079,
            "symbol": "circle"
           },
           "mode": "markers",
           "name": "대전",
           "orientation": "v",
           "showlegend": true,
           "type": "scatter",
           "x": [
            3.3224468085106382
           ],
           "xaxis": "x",
           "y": [
            26.361702127659573
           ],
           "yaxis": "y"
          },
          {
           "customdata": [
            [
             "부산"
            ]
           ],
           "hovertemplate": "region=%{customdata[0]}<br>month=12<br>usage_frequency=%{x}<br>water_temperature=%{y}<br>water_consumption=%{marker.size}<extra></extra>",
           "legendgroup": "부산",
           "marker": {
            "color": "#19d3f3",
            "size": [
             1.7963461538461538
            ],
            "sizemode": "area",
            "sizeref": 0.006254365079365079,
            "symbol": "circle"
           },
           "mode": "markers",
           "name": "부산",
           "orientation": "v",
           "showlegend": true,
           "type": "scatter",
           "x": [
            3.688076923076923
           ],
           "xaxis": "x",
           "y": [
            23.34048076923077
           ],
           "yaxis": "y"
          },
          {
           "customdata": [
            [
             "서울"
            ]
           ],
           "hovertemplate": "region=%{customdata[0]}<br>month=12<br>usage_frequency=%{x}<br>water_temperature=%{y}<br>water_consumption=%{marker.size}<extra></extra>",
           "legendgroup": "서울",
           "marker": {
            "color": "#FF6692",
            "size": [
             2.0616250000000003
            ],
            "sizemode": "area",
            "sizeref": 0.006254365079365079,
            "symbol": "circle"
           },
           "mode": "markers",
           "name": "서울",
           "orientation": "v",
           "showlegend": true,
           "type": "scatter",
           "x": [
            3.0881250000000002
           ],
           "xaxis": "x",
           "y": [
            27.616875
           ],
           "yaxis": "y"
          },
          {
           "customdata": [
            [
             "울산"
            ]
           ],
           "hovertemplate": "region=%{customdata[0]}<br>month=12<br>usage_frequency=%{x}<br>water_temperature=%{y}<br>water_consumption=%{marker.size}<extra></extra>",
           "legendgroup": "울산",
           "marker": {
            "color": "#B6E880",
            "size": [
             1.1821739130434783
            ],
            "sizemode": "area",
            "sizeref": 0.006254365079365079,
            "symbol": "circle"
           },
           "mode": "markers",
           "name": "울산",
           "orientation": "v",
           "showlegend": true,
           "type": "scatter",
           "x": [
            3.669456521739131
           ],
           "xaxis": "x",
           "y": [
            23.812173913043477
           ],
           "yaxis": "y"
          },
          {
           "customdata": [
            [
             "인천"
            ]
           ],
           "hovertemplate": "region=%{customdata[0]}<br>month=12<br>usage_frequency=%{x}<br>water_temperature=%{y}<br>water_consumption=%{marker.size}<extra></extra>",
           "legendgroup": "인천",
           "marker": {
            "color": "#FF97FF",
            "size": [
             1.5528205128205128
            ],
            "sizemode": "area",
            "sizeref": 0.006254365079365079,
            "symbol": "circle"
           },
           "mode": "markers",
           "name": "인천",
           "orientation": "v",
           "showlegend": true,
           "type": "scatter",
           "x": [
            3.0514102564102563
           ],
           "xaxis": "x",
           "y": [
            27.849615384615383
           ],
           "yaxis": "y"
          },
          {
           "customdata": [
            [
             "제주"
            ]
           ],
           "hovertemplate": "region=%{customdata[0]}<br>month=12<br>usage_frequency=%{x}<br>water_temperature=%{y}<br>water_consumption=%{marker.size}<extra></extra>",
           "legendgroup": "제주",
           "marker": {
            "color": "#FECB52",
            "size": [
             0.7436585365853658
            ],
            "sizemode": "area",
            "sizeref": 0.006254365079365079,
            "symbol": "circle"
           },
           "mode": "markers",
           "name": "제주",
           "orientation": "v",
           "showlegend": true,
           "type": "scatter",
           "x": [
            2.83890243902439
           ],
           "xaxis": "x",
           "y": [
            29.897804878048778
           ],
           "yaxis": "y"
          }
         ],
         "name": "12"
        }
       ],
       "layout": {
        "legend": {
         "itemsizing": "constant",
         "title": {
          "text": "region"
         },
         "tracegroupgap": 0
        },
        "margin": {
         "t": 60
        },
        "sliders": [
         {
          "active": 0,
          "currentvalue": {
           "prefix": "month="
          },
          "len": 0.9,
          "pad": {
           "b": 10,
           "t": 60
          },
          "steps": [
           {
            "args": [
             [
              "1"
             ],
             {
              "frame": {
               "duration": 0,
               "redraw": false
              },
              "fromcurrent": true,
              "mode": "immediate",
              "transition": {
               "duration": 0,
               "easing": "linear"
              }
             }
            ],
            "label": "1",
            "method": "animate"
           },
           {
            "args": [
             [
              "2"
             ],
             {
              "frame": {
               "duration": 0,
               "redraw": false
              },
              "fromcurrent": true,
              "mode": "immediate",
              "transition": {
               "duration": 0,
               "easing": "linear"
              }
             }
            ],
            "label": "2",
            "method": "animate"
           },
           {
            "args": [
             [
              "3"
             ],
             {
              "frame": {
               "duration": 0,
               "redraw": false
              },
              "fromcurrent": true,
              "mode": "immediate",
              "transition": {
               "duration": 0,
               "easing": "linear"
              }
             }
            ],
            "label": "3",
            "method": "animate"
           },
           {
            "args": [
             [
              "4"
             ],
             {
              "frame": {
               "duration": 0,
               "redraw": false
              },
              "fromcurrent": true,
              "mode": "immediate",
              "transition": {
               "duration": 0,
               "easing": "linear"
              }
             }
            ],
            "label": "4",
            "method": "animate"
           },
           {
            "args": [
             [
              "5"
             ],
             {
              "frame": {
               "duration": 0,
               "redraw": false
              },
              "fromcurrent": true,
              "mode": "immediate",
              "transition": {
               "duration": 0,
               "easing": "linear"
              }
             }
            ],
            "label": "5",
            "method": "animate"
           },
           {
            "args": [
             [
              "6"
             ],
             {
              "frame": {
               "duration": 0,
               "redraw": false
              },
              "fromcurrent": true,
              "mode": "immediate",
              "transition": {
               "duration": 0,
               "easing": "linear"
              }
             }
            ],
            "label": "6",
            "method": "animate"
           },
           {
            "args": [
             [
              "7"
             ],
             {
              "frame": {
               "duration": 0,
               "redraw": false
              },
              "fromcurrent": true,
              "mode": "immediate",
              "transition": {
               "duration": 0,
               "easing": "linear"
              }
             }
            ],
            "label": "7",
            "method": "animate"
           },
           {
            "args": [
             [
              "8"
             ],
             {
              "frame": {
               "duration": 0,
               "redraw": false
              },
              "fromcurrent": true,
              "mode": "immediate",
              "transition": {
               "duration": 0,
               "easing": "linear"
              }
             }
            ],
            "label": "8",
            "method": "animate"
           },
           {
            "args": [
             [
              "9"
             ],
             {
              "frame": {
               "duration": 0,
               "redraw": false
              },
              "fromcurrent": true,
              "mode": "immediate",
              "transition": {
               "duration": 0,
               "easing": "linear"
              }
             }
            ],
            "label": "9",
            "method": "animate"
           },
           {
            "args": [
             [
              "10"
             ],
             {
              "frame": {
               "duration": 0,
               "redraw": false
              },
              "fromcurrent": true,
              "mode": "immediate",
              "transition": {
               "duration": 0,
               "easing": "linear"
              }
             }
            ],
            "label": "10",
            "method": "animate"
           },
           {
            "args": [
             [
              "11"
             ],
             {
              "frame": {
               "duration": 0,
               "redraw": false
              },
              "fromcurrent": true,
              "mode": "immediate",
              "transition": {
               "duration": 0,
               "easing": "linear"
              }
             }
            ],
            "label": "11",
            "method": "animate"
           },
           {
            "args": [
             [
              "12"
             ],
             {
              "frame": {
               "duration": 0,
               "redraw": false
              },
              "fromcurrent": true,
              "mode": "immediate",
              "transition": {
               "duration": 0,
               "easing": "linear"
              }
             }
            ],
            "label": "12",
            "method": "animate"
           }
          ],
          "x": 0.1,
          "xanchor": "left",
          "y": 0,
          "yanchor": "top"
         }
        ],
        "template": {
         "data": {
          "bar": [
           {
            "error_x": {
             "color": "#2a3f5f"
            },
            "error_y": {
             "color": "#2a3f5f"
            },
            "marker": {
             "line": {
              "color": "#E5ECF6",
              "width": 0.5
             },
             "pattern": {
              "fillmode": "overlay",
              "size": 10,
              "solidity": 0.2
             }
            },
            "type": "bar"
           }
          ],
          "barpolar": [
           {
            "marker": {
             "line": {
              "color": "#E5ECF6",
              "width": 0.5
             },
             "pattern": {
              "fillmode": "overlay",
              "size": 10,
              "solidity": 0.2
             }
            },
            "type": "barpolar"
           }
          ],
          "carpet": [
           {
            "aaxis": {
             "endlinecolor": "#2a3f5f",
             "gridcolor": "white",
             "linecolor": "white",
             "minorgridcolor": "white",
             "startlinecolor": "#2a3f5f"
            },
            "baxis": {
             "endlinecolor": "#2a3f5f",
             "gridcolor": "white",
             "linecolor": "white",
             "minorgridcolor": "white",
             "startlinecolor": "#2a3f5f"
            },
            "type": "carpet"
           }
          ],
          "choropleth": [
           {
            "colorbar": {
             "outlinewidth": 0,
             "ticks": ""
            },
            "type": "choropleth"
           }
          ],
          "contour": [
           {
            "colorbar": {
             "outlinewidth": 0,
             "ticks": ""
            },
            "colorscale": [
             [
              0,
              "#0d0887"
             ],
             [
              0.1111111111111111,
              "#46039f"
             ],
             [
              0.2222222222222222,
              "#7201a8"
             ],
             [
              0.3333333333333333,
              "#9c179e"
             ],
             [
              0.4444444444444444,
              "#bd3786"
             ],
             [
              0.5555555555555556,
              "#d8576b"
             ],
             [
              0.6666666666666666,
              "#ed7953"
             ],
             [
              0.7777777777777778,
              "#fb9f3a"
             ],
             [
              0.8888888888888888,
              "#fdca26"
             ],
             [
              1,
              "#f0f921"
             ]
            ],
            "type": "contour"
           }
          ],
          "contourcarpet": [
           {
            "colorbar": {
             "outlinewidth": 0,
             "ticks": ""
            },
            "type": "contourcarpet"
           }
          ],
          "heatmap": [
           {
            "colorbar": {
             "outlinewidth": 0,
             "ticks": ""
            },
            "colorscale": [
             [
              0,
              "#0d0887"
             ],
             [
              0.1111111111111111,
              "#46039f"
             ],
             [
              0.2222222222222222,
              "#7201a8"
             ],
             [
              0.3333333333333333,
              "#9c179e"
             ],
             [
              0.4444444444444444,
              "#bd3786"
             ],
             [
              0.5555555555555556,
              "#d8576b"
             ],
             [
              0.6666666666666666,
              "#ed7953"
             ],
             [
              0.7777777777777778,
              "#fb9f3a"
             ],
             [
              0.8888888888888888,
              "#fdca26"
             ],
             [
              1,
              "#f0f921"
             ]
            ],
            "type": "heatmap"
           }
          ],
          "heatmapgl": [
           {
            "colorbar": {
             "outlinewidth": 0,
             "ticks": ""
            },
            "colorscale": [
             [
              0,
              "#0d0887"
             ],
             [
              0.1111111111111111,
              "#46039f"
             ],
             [
              0.2222222222222222,
              "#7201a8"
             ],
             [
              0.3333333333333333,
              "#9c179e"
             ],
             [
              0.4444444444444444,
              "#bd3786"
             ],
             [
              0.5555555555555556,
              "#d8576b"
             ],
             [
              0.6666666666666666,
              "#ed7953"
             ],
             [
              0.7777777777777778,
              "#fb9f3a"
             ],
             [
              0.8888888888888888,
              "#fdca26"
             ],
             [
              1,
              "#f0f921"
             ]
            ],
            "type": "heatmapgl"
           }
          ],
          "histogram": [
           {
            "marker": {
             "pattern": {
              "fillmode": "overlay",
              "size": 10,
              "solidity": 0.2
             }
            },
            "type": "histogram"
           }
          ],
          "histogram2d": [
           {
            "colorbar": {
             "outlinewidth": 0,
             "ticks": ""
            },
            "colorscale": [
             [
              0,
              "#0d0887"
             ],
             [
              0.1111111111111111,
              "#46039f"
             ],
             [
              0.2222222222222222,
              "#7201a8"
             ],
             [
              0.3333333333333333,
              "#9c179e"
             ],
             [
              0.4444444444444444,
              "#bd3786"
             ],
             [
              0.5555555555555556,
              "#d8576b"
             ],
             [
              0.6666666666666666,
              "#ed7953"
             ],
             [
              0.7777777777777778,
              "#fb9f3a"
             ],
             [
              0.8888888888888888,
              "#fdca26"
             ],
             [
              1,
              "#f0f921"
             ]
            ],
            "type": "histogram2d"
           }
          ],
          "histogram2dcontour": [
           {
            "colorbar": {
             "outlinewidth": 0,
             "ticks": ""
            },
            "colorscale": [
             [
              0,
              "#0d0887"
             ],
             [
              0.1111111111111111,
              "#46039f"
             ],
             [
              0.2222222222222222,
              "#7201a8"
             ],
             [
              0.3333333333333333,
              "#9c179e"
             ],
             [
              0.4444444444444444,
              "#bd3786"
             ],
             [
              0.5555555555555556,
              "#d8576b"
             ],
             [
              0.6666666666666666,
              "#ed7953"
             ],
             [
              0.7777777777777778,
              "#fb9f3a"
             ],
             [
              0.8888888888888888,
              "#fdca26"
             ],
             [
              1,
              "#f0f921"
             ]
            ],
            "type": "histogram2dcontour"
           }
          ],
          "mesh3d": [
           {
            "colorbar": {
             "outlinewidth": 0,
             "ticks": ""
            },
            "type": "mesh3d"
           }
          ],
          "parcoords": [
           {
            "line": {
             "colorbar": {
              "outlinewidth": 0,
              "ticks": ""
             }
            },
            "type": "parcoords"
           }
          ],
          "pie": [
           {
            "automargin": true,
            "type": "pie"
           }
          ],
          "scatter": [
           {
            "fillpattern": {
             "fillmode": "overlay",
             "size": 10,
             "solidity": 0.2
            },
            "type": "scatter"
           }
          ],
          "scatter3d": [
           {
            "line": {
             "colorbar": {
              "outlinewidth": 0,
              "ticks": ""
             }
            },
            "marker": {
             "colorbar": {
              "outlinewidth": 0,
              "ticks": ""
             }
            },
            "type": "scatter3d"
           }
          ],
          "scattercarpet": [
           {
            "marker": {
             "colorbar": {
              "outlinewidth": 0,
              "ticks": ""
             }
            },
            "type": "scattercarpet"
           }
          ],
          "scattergeo": [
           {
            "marker": {
             "colorbar": {
              "outlinewidth": 0,
              "ticks": ""
             }
            },
            "type": "scattergeo"
           }
          ],
          "scattergl": [
           {
            "marker": {
             "colorbar": {
              "outlinewidth": 0,
              "ticks": ""
             }
            },
            "type": "scattergl"
           }
          ],
          "scattermapbox": [
           {
            "marker": {
             "colorbar": {
              "outlinewidth": 0,
              "ticks": ""
             }
            },
            "type": "scattermapbox"
           }
          ],
          "scatterpolar": [
           {
            "marker": {
             "colorbar": {
              "outlinewidth": 0,
              "ticks": ""
             }
            },
            "type": "scatterpolar"
           }
          ],
          "scatterpolargl": [
           {
            "marker": {
             "colorbar": {
              "outlinewidth": 0,
              "ticks": ""
             }
            },
            "type": "scatterpolargl"
           }
          ],
          "scatterternary": [
           {
            "marker": {
             "colorbar": {
              "outlinewidth": 0,
              "ticks": ""
             }
            },
            "type": "scatterternary"
           }
          ],
          "surface": [
           {
            "colorbar": {
             "outlinewidth": 0,
             "ticks": ""
            },
            "colorscale": [
             [
              0,
              "#0d0887"
             ],
             [
              0.1111111111111111,
              "#46039f"
             ],
             [
              0.2222222222222222,
              "#7201a8"
             ],
             [
              0.3333333333333333,
              "#9c179e"
             ],
             [
              0.4444444444444444,
              "#bd3786"
             ],
             [
              0.5555555555555556,
              "#d8576b"
             ],
             [
              0.6666666666666666,
              "#ed7953"
             ],
             [
              0.7777777777777778,
              "#fb9f3a"
             ],
             [
              0.8888888888888888,
              "#fdca26"
             ],
             [
              1,
              "#f0f921"
             ]
            ],
            "type": "surface"
           }
          ],
          "table": [
           {
            "cells": {
             "fill": {
              "color": "#EBF0F8"
             },
             "line": {
              "color": "white"
             }
            },
            "header": {
             "fill": {
              "color": "#C8D4E3"
             },
             "line": {
              "color": "white"
             }
            },
            "type": "table"
           }
          ]
         },
         "layout": {
          "annotationdefaults": {
           "arrowcolor": "#2a3f5f",
           "arrowhead": 0,
           "arrowwidth": 1
          },
          "autotypenumbers": "strict",
          "coloraxis": {
           "colorbar": {
            "outlinewidth": 0,
            "ticks": ""
           }
          },
          "colorscale": {
           "diverging": [
            [
             0,
             "#8e0152"
            ],
            [
             0.1,
             "#c51b7d"
            ],
            [
             0.2,
             "#de77ae"
            ],
            [
             0.3,
             "#f1b6da"
            ],
            [
             0.4,
             "#fde0ef"
            ],
            [
             0.5,
             "#f7f7f7"
            ],
            [
             0.6,
             "#e6f5d0"
            ],
            [
             0.7,
             "#b8e186"
            ],
            [
             0.8,
             "#7fbc41"
            ],
            [
             0.9,
             "#4d9221"
            ],
            [
             1,
             "#276419"
            ]
           ],
           "sequential": [
            [
             0,
             "#0d0887"
            ],
            [
             0.1111111111111111,
             "#46039f"
            ],
            [
             0.2222222222222222,
             "#7201a8"
            ],
            [
             0.3333333333333333,
             "#9c179e"
            ],
            [
             0.4444444444444444,
             "#bd3786"
            ],
            [
             0.5555555555555556,
             "#d8576b"
            ],
            [
             0.6666666666666666,
             "#ed7953"
            ],
            [
             0.7777777777777778,
             "#fb9f3a"
            ],
            [
             0.8888888888888888,
             "#fdca26"
            ],
            [
             1,
             "#f0f921"
            ]
           ],
           "sequentialminus": [
            [
             0,
             "#0d0887"
            ],
            [
             0.1111111111111111,
             "#46039f"
            ],
            [
             0.2222222222222222,
             "#7201a8"
            ],
            [
             0.3333333333333333,
             "#9c179e"
            ],
            [
             0.4444444444444444,
             "#bd3786"
            ],
            [
             0.5555555555555556,
             "#d8576b"
            ],
            [
             0.6666666666666666,
             "#ed7953"
            ],
            [
             0.7777777777777778,
             "#fb9f3a"
            ],
            [
             0.8888888888888888,
             "#fdca26"
            ],
            [
             1,
             "#f0f921"
            ]
           ]
          },
          "colorway": [
           "#636efa",
           "#EF553B",
           "#00cc96",
           "#ab63fa",
           "#FFA15A",
           "#19d3f3",
           "#FF6692",
           "#B6E880",
           "#FF97FF",
           "#FECB52"
          ],
          "font": {
           "color": "#2a3f5f"
          },
          "geo": {
           "bgcolor": "white",
           "lakecolor": "white",
           "landcolor": "#E5ECF6",
           "showlakes": true,
           "showland": true,
           "subunitcolor": "white"
          },
          "hoverlabel": {
           "align": "left"
          },
          "hovermode": "closest",
          "mapbox": {
           "style": "light"
          },
          "paper_bgcolor": "white",
          "plot_bgcolor": "#E5ECF6",
          "polar": {
           "angularaxis": {
            "gridcolor": "white",
            "linecolor": "white",
            "ticks": ""
           },
           "bgcolor": "#E5ECF6",
           "radialaxis": {
            "gridcolor": "white",
            "linecolor": "white",
            "ticks": ""
           }
          },
          "scene": {
           "xaxis": {
            "backgroundcolor": "#E5ECF6",
            "gridcolor": "white",
            "gridwidth": 2,
            "linecolor": "white",
            "showbackground": true,
            "ticks": "",
            "zerolinecolor": "white"
           },
           "yaxis": {
            "backgroundcolor": "#E5ECF6",
            "gridcolor": "white",
            "gridwidth": 2,
            "linecolor": "white",
            "showbackground": true,
            "ticks": "",
            "zerolinecolor": "white"
           },
           "zaxis": {
            "backgroundcolor": "#E5ECF6",
            "gridcolor": "white",
            "gridwidth": 2,
            "linecolor": "white",
            "showbackground": true,
            "ticks": "",
            "zerolinecolor": "white"
           }
          },
          "shapedefaults": {
           "line": {
            "color": "#2a3f5f"
           }
          },
          "ternary": {
           "aaxis": {
            "gridcolor": "white",
            "linecolor": "white",
            "ticks": ""
           },
           "baxis": {
            "gridcolor": "white",
            "linecolor": "white",
            "ticks": ""
           },
           "bgcolor": "#E5ECF6",
           "caxis": {
            "gridcolor": "white",
            "linecolor": "white",
            "ticks": ""
           }
          },
          "title": {
           "x": 0.05
          },
          "xaxis": {
           "automargin": true,
           "gridcolor": "white",
           "linecolor": "white",
           "ticks": "",
           "title": {
            "standoff": 15
           },
           "zerolinecolor": "white",
           "zerolinewidth": 2
          },
          "yaxis": {
           "automargin": true,
           "gridcolor": "white",
           "linecolor": "white",
           "ticks": "",
           "title": {
            "standoff": 15
           },
           "zerolinecolor": "white",
           "zerolinewidth": 2
          }
         }
        },
        "updatemenus": [
         {
          "buttons": [
           {
            "args": [
             null,
             {
              "frame": {
               "duration": 500,
               "redraw": false
              },
              "fromcurrent": true,
              "mode": "immediate",
              "transition": {
               "duration": 500,
               "easing": "linear"
              }
             }
            ],
            "label": "&#9654;",
            "method": "animate"
           },
           {
            "args": [
             [
              null
             ],
             {
              "frame": {
               "duration": 0,
               "redraw": false
              },
              "fromcurrent": true,
              "mode": "immediate",
              "transition": {
               "duration": 0,
               "easing": "linear"
              }
             }
            ],
            "label": "&#9724;",
            "method": "animate"
           }
          ],
          "direction": "left",
          "pad": {
           "r": 10,
           "t": 70
          },
          "showactive": false,
          "type": "buttons",
          "x": 0.1,
          "xanchor": "right",
          "y": 0,
          "yanchor": "top"
         }
        ],
        "xaxis": {
         "anchor": "y",
         "domain": [
          0,
          1
         ],
         "range": [
          0,
          10
         ],
         "title": {
          "text": "usage_frequency"
         }
        },
        "yaxis": {
         "anchor": "x",
         "domain": [
          0,
          1
         ],
         "range": [
          5,
          35
         ],
         "title": {
          "text": "water_temperature"
         }
        }
       }
      }
     },
     "metadata": {},
     "output_type": "display_data"
    }
   ],
   "source": [
    "# 2.9 동적인(dynamic) 시각화 추가\n",
    "# 출처: https://plotly.com/python/animations/\n",
    "\n",
    "import plotly.express as px\n",
    "\n",
    "plot_data = iot_data.groupby([\"month\", \"region\"])[[\"usage_frequency\", \"water_temperature\", \"water_consumption\"]].mean().reset_index()\n",
    "px.scatter(plot_data, \n",
    "           x=\"usage_frequency\", y=\"water_temperature\", size=\"water_consumption\",\n",
    "           animation_frame=\"month\", hover_data=\"region\", color=\"region\",\n",
    "           range_x=[0, 10], range_y=[5, 35])"
   ]
  }
 ],
 "metadata": {
  "kernelspec": {
   "display_name": "Python 3",
   "language": "python",
   "name": "python3"
  },
  "language_info": {
   "codemirror_mode": {
    "name": "ipython",
    "version": 3
   },
   "file_extension": ".py",
   "mimetype": "text/x-python",
   "name": "python",
   "nbconvert_exporter": "python",
   "pygments_lexer": "ipython3",
   "version": "3.12.0"
  }
 },
 "nbformat": 4,
 "nbformat_minor": 2
}
